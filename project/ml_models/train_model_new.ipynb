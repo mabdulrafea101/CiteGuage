{
 "cells": [
  {
   "cell_type": "markdown",
   "id": "30c11dc8",
   "metadata": {},
   "source": [
    "# new model training for cite Guage"
   ]
  },
  {
   "cell_type": "code",
   "execution_count": 23,
   "id": "2456a681",
   "metadata": {},
   "outputs": [
    {
     "name": "stdout",
     "output_type": "stream",
     "text": [
      "============================================================\n",
      "MEMORY-EFFICIENT DBLP CITATION NETWORK TRAINING PIPELINE\n",
      "============================================================\n",
      "Initial memory usage: 4243.1MB\n",
      "Configuration loaded. Data directory: data\n",
      "Memory limit set to: 6144MB\n"
     ]
    }
   ],
   "source": [
    "# Memory-Efficient DBLP Citation Network Training Pipeline\n",
    "# Optimized for laptop/limited memory environments\n",
    "\n",
    "# ============================================================================\n",
    "# BLOCK 1: Setup and Configuration\n",
    "# ============================================================================\n",
    "\n",
    "import os\n",
    "import pandas as pd\n",
    "import numpy as np\n",
    "import logging\n",
    "import matplotlib.pyplot as plt\n",
    "import seaborn as sns\n",
    "import gc\n",
    "import psutil\n",
    "import warnings\n",
    "from typing import List, Union, Optional, Dict, Any\n",
    "import joblib\n",
    "from pathlib import Path\n",
    "\n",
    "# Suppress warnings for cleaner output\n",
    "warnings.filterwarnings('ignore', category=FutureWarning)\n",
    "warnings.filterwarnings('ignore', category=UserWarning)\n",
    "\n",
    "# Memory monitoring function\n",
    "def get_memory_usage():\n",
    "    \"\"\"Get current memory usage in MB\"\"\"\n",
    "    process = psutil.Process(os.getpid())\n",
    "    return process.memory_info().rss / 1024 / 1024\n",
    "\n",
    "# Enhanced logging configuration\n",
    "def setup_logging(step_name: str, log_level: int = logging.INFO) -> logging.Logger:\n",
    "    \"\"\"Setup logging with memory monitoring\"\"\"\n",
    "    log_filename = f\"{step_name}.log\"\n",
    "    \n",
    "    # Clear existing handlers to prevent duplicates\n",
    "    for handler in logging.root.handlers[:]:\n",
    "        logging.root.removeHandler(handler)\n",
    "    \n",
    "    # Create formatter\n",
    "    formatter = logging.Formatter(\n",
    "        '%(asctime)s - %(levelname)s - [MEM: {:.1f}MB] - %(message)s'.format(get_memory_usage())\n",
    "    )\n",
    "    \n",
    "    # Setup handlers\n",
    "    file_handler = logging.FileHandler(log_filename, mode='w')\n",
    "    file_handler.setFormatter(formatter)\n",
    "    \n",
    "    console_handler = logging.StreamHandler()\n",
    "    console_handler.setFormatter(formatter)\n",
    "    \n",
    "    # Configure root logger\n",
    "    logging.basicConfig(\n",
    "        level=log_level,\n",
    "        handlers=[file_handler, console_handler],\n",
    "        format='%(asctime)s - %(levelname)s - [MEM: {:.1f}MB] - %(message)s'.format(get_memory_usage())\n",
    "    )\n",
    "    \n",
    "    logger = logging.getLogger(step_name)\n",
    "    return logger\n",
    "\n",
    "# Memory management utilities\n",
    "def force_garbage_collection():\n",
    "    \"\"\"Force garbage collection and log memory usage\"\"\"\n",
    "    before_mem = get_memory_usage()\n",
    "    gc.collect()\n",
    "    after_mem = get_memory_usage()\n",
    "    print(f\"Memory: {before_mem:.1f}MB -> {after_mem:.1f}MB (freed: {before_mem-after_mem:.1f}MB)\")\n",
    "\n",
    "def check_memory_limit(limit_mb: int = 8192):\n",
    "    \"\"\"Check if memory usage exceeds limit\"\"\"\n",
    "    current_mem = get_memory_usage()\n",
    "    if current_mem > limit_mb:\n",
    "        print(f\"WARNING: Memory usage ({current_mem:.1f}MB) exceeds limit ({limit_mb}MB)\")\n",
    "        force_garbage_collection()\n",
    "        return True\n",
    "    return False\n",
    "\n",
    "# Configuration\n",
    "CONFIG = {\n",
    "    'DATA_DIR': Path('data'),\n",
    "    'KAGGLE_CSV_FILE': 'dblp-citation-network-v14.csv',\n",
    "    # --- OUTPUT PATHS (Updated to point to Django's ml_models directory) ---\n",
    "    'ML_MODELS_DIR': Path('../ml_models'),\n",
    "    'MODEL_PATH': Path('../ml_models') / 'ridge_model.pkl',\n",
    "    'VECTORIZERS_PATH': Path('../ml_models') / 'tfidf_vectorizers.pkl',\n",
    "    'MODEL_RESULTS_PATH': Path('../ml_models') / 'model_results.pkl',\n",
    "    \n",
    "    # Memory optimization settings\n",
    "    'CHUNK_SIZE': 10000,  # Process data in chunks\n",
    "    'MAX_MEMORY_MB': 6144,  # 6GB memory limit\n",
    "    'DTYPE_OPTIMIZATIONS': {\n",
    "        'year': 'int16',\n",
    "        'n_citation': 'int32',\n",
    "        'has_doi': 'int8',\n",
    "        'has_url': 'int8',\n",
    "        'title_length': 'int16',\n",
    "        'abstract_length': 'int32',\n",
    "        'num_keywords': 'int16',\n",
    "        'age': 'int16',\n",
    "        'num_references': 'int16'\n",
    "    },\n",
    "    \n",
    "    # TF-IDF parameters (reduced for memory efficiency)\n",
    "    'TFIDF_MAX_FEATURES': 5000,  # Reduced from 10000\n",
    "    'TFIDF_MIN_DF_TITLE_ABSTRACT': 10,  # Increased to reduce features\n",
    "    'TFIDF_MIN_DF_KEYWORDS': 2,\n",
    "    'TFIDF_NGRAM_RANGE': (1, 2),\n",
    "    \n",
    "    # Processing settings\n",
    "    'RANDOM_STATE': 42,\n",
    "    'N_JOBS': -1  # Use all available cores\n",
    "}\n",
    "\n",
    "# Numerical features list\n",
    "NUMERICAL_FEATURES_COLS = [\n",
    "    'title_length', 'abstract_length', 'num_keywords',\n",
    "    'age', 'num_references', 'has_doi', 'has_url'\n",
    "]\n",
    "\n",
    "# Create data directory\n",
    "CONFIG['ML_MODELS_DIR'].mkdir(exist_ok=True)\n",
    "\n",
    "print(\"=\" * 60)\n",
    "print(\"MEMORY-EFFICIENT DBLP CITATION NETWORK TRAINING PIPELINE\")\n",
    "print(\"=\" * 60)\n",
    "print(f\"Initial memory usage: {get_memory_usage():.1f}MB\")\n",
    "print(f\"Configuration loaded. Data directory: {CONFIG['DATA_DIR']}\")\n",
    "print(f\"Memory limit set to: {CONFIG['MAX_MEMORY_MB']}MB\")"
   ]
  },
  {
   "cell_type": "code",
   "execution_count": 24,
   "id": "545690dc",
   "metadata": {},
   "outputs": [
    {
     "name": "stderr",
     "output_type": "stream",
     "text": [
      "2025-07-20 19:10:48,606 - INFO - [MEM: 4244.6MB] - Starting efficient data loading\n",
      "2025-07-20 19:10:48,606 - INFO - [MEM: 4244.6MB] - Loading data from: data/dblp-citation-network-v14.csv\n",
      "2025-07-20 19:10:48,606 - INFO - [MEM: 4244.6MB] - File size: 3128.0MB\n",
      "2025-07-20 19:10:48,607 - INFO - [MEM: 4244.6MB] - CSV field size limit increased for large fields\n"
     ]
    },
    {
     "name": "stdout",
     "output_type": "stream",
     "text": [
      "\n",
      "==================================================\n",
      "LOADING DATA\n",
      "==================================================\n"
     ]
    },
    {
     "name": "stderr",
     "output_type": "stream",
     "text": [
      "2025-07-20 19:10:48,884 - INFO - [MEM: 4244.6MB] - Processing chunk 1, rows: 8420\n",
      "2025-07-20 19:10:49,092 - INFO - [MEM: 4244.6MB] - Processing chunk 2, rows: 9422\n",
      "2025-07-20 19:10:49,308 - INFO - [MEM: 4244.6MB] - Processing chunk 3, rows: 9483\n",
      "2025-07-20 19:10:49,450 - INFO - [MEM: 4244.6MB] - Processing chunk 4, rows: 9249\n",
      "2025-07-20 19:10:49,560 - INFO - [MEM: 4244.6MB] - Processing chunk 5, rows: 9229\n",
      "2025-07-20 19:10:49,687 - INFO - [MEM: 4244.6MB] - Processing chunk 6, rows: 9220\n",
      "2025-07-20 19:10:49,795 - INFO - [MEM: 4244.6MB] - Processing chunk 7, rows: 9136\n",
      "2025-07-20 19:10:49,921 - INFO - [MEM: 4244.6MB] - Processing chunk 8, rows: 9428\n",
      "2025-07-20 19:10:50,052 - INFO - [MEM: 4244.6MB] - Processing chunk 9, rows: 9508\n",
      "2025-07-20 19:10:50,210 - INFO - [MEM: 4244.6MB] - Processing chunk 10, rows: 9673\n",
      "2025-07-20 19:10:50,347 - INFO - [MEM: 4244.6MB] - Processing chunk 11, rows: 9703\n",
      "2025-07-20 19:10:50,499 - INFO - [MEM: 4244.6MB] - Processing chunk 12, rows: 9737\n",
      "2025-07-20 19:10:50,649 - INFO - [MEM: 4244.6MB] - Processing chunk 13, rows: 9729\n",
      "2025-07-20 19:10:50,797 - INFO - [MEM: 4244.6MB] - Processing chunk 14, rows: 9734\n",
      "2025-07-20 19:10:51,080 - INFO - [MEM: 4244.6MB] - Processing chunk 15, rows: 9701\n",
      "2025-07-20 19:10:51,282 - INFO - [MEM: 4244.6MB] - Processing chunk 16, rows: 9633\n",
      "2025-07-20 19:10:51,420 - INFO - [MEM: 4244.6MB] - Processing chunk 17, rows: 9708\n",
      "2025-07-20 19:10:51,578 - INFO - [MEM: 4244.6MB] - Processing chunk 18, rows: 9682\n",
      "2025-07-20 19:10:51,714 - INFO - [MEM: 4244.6MB] - Processing chunk 19, rows: 9712\n",
      "2025-07-20 19:10:51,837 - INFO - [MEM: 4244.6MB] - Processing chunk 20, rows: 9621\n",
      "2025-07-20 19:10:51,952 - INFO - [MEM: 4244.6MB] - Processing chunk 21, rows: 9491\n",
      "2025-07-20 19:10:52,067 - INFO - [MEM: 4244.6MB] - Processing chunk 22, rows: 9398\n",
      "2025-07-20 19:10:52,191 - INFO - [MEM: 4244.6MB] - Processing chunk 23, rows: 9507\n",
      "2025-07-20 19:10:52,319 - INFO - [MEM: 4244.6MB] - Processing chunk 24, rows: 9510\n",
      "2025-07-20 19:10:52,453 - INFO - [MEM: 4244.6MB] - Processing chunk 25, rows: 9560\n",
      "2025-07-20 19:10:52,587 - INFO - [MEM: 4244.6MB] - Processing chunk 26, rows: 9528\n",
      "2025-07-20 19:10:52,729 - INFO - [MEM: 4244.6MB] - Processing chunk 27, rows: 9608\n",
      "2025-07-20 19:10:52,942 - INFO - [MEM: 4244.6MB] - Processing chunk 28, rows: 9387\n",
      "2025-07-20 19:10:53,077 - INFO - [MEM: 4244.6MB] - Processing chunk 29, rows: 9456\n",
      "2025-07-20 19:10:53,203 - INFO - [MEM: 4244.6MB] - Processing chunk 30, rows: 9360\n",
      "2025-07-20 19:10:53,339 - INFO - [MEM: 4244.6MB] - Processing chunk 31, rows: 9340\n",
      "2025-07-20 19:10:53,501 - INFO - [MEM: 4244.6MB] - Processing chunk 32, rows: 9709\n",
      "2025-07-20 19:10:53,667 - INFO - [MEM: 4244.6MB] - Processing chunk 33, rows: 9687\n",
      "2025-07-20 19:10:53,828 - INFO - [MEM: 4244.6MB] - Processing chunk 34, rows: 9666\n",
      "2025-07-20 19:10:53,990 - INFO - [MEM: 4244.6MB] - Processing chunk 35, rows: 9686\n",
      "2025-07-20 19:10:54,153 - INFO - [MEM: 4244.6MB] - Processing chunk 36, rows: 9701\n",
      "2025-07-20 19:10:54,315 - INFO - [MEM: 4244.6MB] - Processing chunk 37, rows: 9658\n",
      "2025-07-20 19:10:54,489 - INFO - [MEM: 4244.6MB] - Processing chunk 38, rows: 9592\n",
      "2025-07-20 19:10:54,663 - INFO - [MEM: 4244.6MB] - Processing chunk 39, rows: 9638\n",
      "2025-07-20 19:10:54,842 - INFO - [MEM: 4244.6MB] - Processing chunk 40, rows: 9698\n",
      "2025-07-20 19:10:55,018 - INFO - [MEM: 4244.6MB] - Processing chunk 41, rows: 9736\n",
      "2025-07-20 19:10:55,268 - INFO - [MEM: 4244.6MB] - Processing chunk 42, rows: 9797\n",
      "2025-07-20 19:10:55,443 - INFO - [MEM: 4244.6MB] - Processing chunk 43, rows: 9723\n",
      "2025-07-20 19:10:55,621 - INFO - [MEM: 4244.6MB] - Processing chunk 44, rows: 9698\n",
      "2025-07-20 19:10:55,798 - INFO - [MEM: 4244.6MB] - Processing chunk 45, rows: 9684\n",
      "2025-07-20 19:10:55,982 - INFO - [MEM: 4244.6MB] - Processing chunk 46, rows: 9726\n",
      "2025-07-20 19:10:56,167 - INFO - [MEM: 4244.6MB] - Processing chunk 47, rows: 9753\n",
      "2025-07-20 19:10:56,350 - INFO - [MEM: 4244.6MB] - Processing chunk 48, rows: 9741\n",
      "2025-07-20 19:10:56,534 - INFO - [MEM: 4244.6MB] - Processing chunk 49, rows: 9723\n",
      "2025-07-20 19:10:56,713 - INFO - [MEM: 4244.6MB] - Processing chunk 50, rows: 9696\n",
      "2025-07-20 19:10:56,896 - INFO - [MEM: 4244.6MB] - Processing chunk 51, rows: 9617\n",
      "2025-07-20 19:10:57,074 - INFO - [MEM: 4244.6MB] - Processing chunk 52, rows: 9592\n",
      "2025-07-20 19:10:57,255 - INFO - [MEM: 4244.6MB] - Processing chunk 53, rows: 9580\n",
      "2025-07-20 19:10:57,431 - INFO - [MEM: 4244.6MB] - Processing chunk 54, rows: 9619\n",
      "2025-07-20 19:10:57,684 - INFO - [MEM: 4244.6MB] - Processing chunk 55, rows: 9613\n",
      "2025-07-20 19:10:57,934 - INFO - [MEM: 4244.6MB] - Processing chunk 56, rows: 9650\n",
      "2025-07-20 19:10:58,205 - INFO - [MEM: 4244.6MB] - Processing chunk 57, rows: 9556\n",
      "2025-07-20 19:10:58,577 - INFO - [MEM: 4244.6MB] - Processing chunk 58, rows: 9554\n",
      "2025-07-20 19:10:58,939 - INFO - [MEM: 4244.6MB] - Processing chunk 59, rows: 9462\n",
      "2025-07-20 19:10:59,203 - INFO - [MEM: 4244.6MB] - Processing chunk 60, rows: 9479\n",
      "2025-07-20 19:10:59,412 - INFO - [MEM: 4244.6MB] - Processing chunk 61, rows: 9450\n",
      "2025-07-20 19:10:59,595 - INFO - [MEM: 4244.6MB] - Processing chunk 62, rows: 9498\n",
      "2025-07-20 19:10:59,776 - INFO - [MEM: 4244.6MB] - Processing chunk 63, rows: 9589\n",
      "2025-07-20 19:10:59,980 - INFO - [MEM: 4244.6MB] - Processing chunk 64, rows: 9590\n",
      "2025-07-20 19:11:00,188 - INFO - [MEM: 4244.6MB] - Processing chunk 65, rows: 9561\n",
      "2025-07-20 19:11:00,402 - INFO - [MEM: 4244.6MB] - Processing chunk 66, rows: 9491\n",
      "2025-07-20 19:11:00,590 - INFO - [MEM: 4244.6MB] - Processing chunk 67, rows: 9546\n",
      "2025-07-20 19:11:00,784 - INFO - [MEM: 4244.6MB] - Processing chunk 68, rows: 9481\n",
      "2025-07-20 19:11:00,960 - INFO - [MEM: 4244.6MB] - Processing chunk 69, rows: 9417\n",
      "2025-07-20 19:11:01,201 - INFO - [MEM: 4244.6MB] - Processing chunk 70, rows: 9533\n",
      "2025-07-20 19:11:01,377 - INFO - [MEM: 4244.6MB] - Processing chunk 71, rows: 9549\n",
      "2025-07-20 19:11:01,547 - INFO - [MEM: 4244.6MB] - Processing chunk 72, rows: 9582\n",
      "2025-07-20 19:11:01,710 - INFO - [MEM: 4244.6MB] - Processing chunk 73, rows: 9526\n",
      "2025-07-20 19:11:01,867 - INFO - [MEM: 4244.6MB] - Processing chunk 74, rows: 9555\n",
      "2025-07-20 19:11:02,025 - INFO - [MEM: 4244.6MB] - Processing chunk 75, rows: 9504\n",
      "2025-07-20 19:11:02,179 - INFO - [MEM: 4244.6MB] - Processing chunk 76, rows: 9447\n",
      "2025-07-20 19:11:02,335 - INFO - [MEM: 4244.6MB] - Processing chunk 77, rows: 9579\n",
      "2025-07-20 19:11:02,490 - INFO - [MEM: 4244.6MB] - Processing chunk 78, rows: 9552\n",
      "2025-07-20 19:11:02,646 - INFO - [MEM: 4244.6MB] - Processing chunk 79, rows: 9535\n",
      "2025-07-20 19:11:02,804 - INFO - [MEM: 4244.6MB] - Processing chunk 80, rows: 9565\n",
      "2025-07-20 19:11:02,964 - INFO - [MEM: 4244.6MB] - Processing chunk 81, rows: 9540\n",
      "2025-07-20 19:11:03,122 - INFO - [MEM: 4244.6MB] - Processing chunk 82, rows: 9589\n",
      "2025-07-20 19:11:03,348 - INFO - [MEM: 4244.6MB] - Processing chunk 83, rows: 9550\n",
      "2025-07-20 19:11:03,506 - INFO - [MEM: 4244.6MB] - Processing chunk 84, rows: 9546\n",
      "2025-07-20 19:11:03,662 - INFO - [MEM: 4244.6MB] - Processing chunk 85, rows: 9567\n",
      "2025-07-20 19:11:03,821 - INFO - [MEM: 4244.6MB] - Processing chunk 86, rows: 9548\n",
      "2025-07-20 19:11:03,989 - INFO - [MEM: 4244.6MB] - Processing chunk 87, rows: 9485\n",
      "2025-07-20 19:11:04,159 - INFO - [MEM: 4244.6MB] - Processing chunk 88, rows: 9589\n",
      "2025-07-20 19:11:04,322 - INFO - [MEM: 4244.6MB] - Processing chunk 89, rows: 9458\n",
      "2025-07-20 19:11:04,492 - INFO - [MEM: 4244.6MB] - Processing chunk 90, rows: 9503\n",
      "2025-07-20 19:11:04,662 - INFO - [MEM: 4244.6MB] - Processing chunk 91, rows: 9615\n",
      "2025-07-20 19:11:04,828 - INFO - [MEM: 4244.6MB] - Processing chunk 92, rows: 9537\n",
      "2025-07-20 19:11:05,003 - INFO - [MEM: 4244.6MB] - Processing chunk 93, rows: 9489\n",
      "2025-07-20 19:11:05,180 - INFO - [MEM: 4244.6MB] - Processing chunk 94, rows: 9513\n",
      "2025-07-20 19:11:05,355 - INFO - [MEM: 4244.6MB] - Processing chunk 95, rows: 9496\n",
      "2025-07-20 19:11:05,529 - INFO - [MEM: 4244.6MB] - Processing chunk 96, rows: 9527\n",
      "2025-07-20 19:11:05,786 - INFO - [MEM: 4244.6MB] - Processing chunk 97, rows: 9524\n",
      "2025-07-20 19:11:05,960 - INFO - [MEM: 4244.6MB] - Processing chunk 98, rows: 9552\n",
      "2025-07-20 19:11:06,136 - INFO - [MEM: 4244.6MB] - Processing chunk 99, rows: 9532\n",
      "2025-07-20 19:11:06,336 - INFO - [MEM: 4244.6MB] - Processing chunk 100, rows: 9499\n",
      "2025-07-20 19:11:06,552 - INFO - [MEM: 4244.6MB] - Processing chunk 101, rows: 9537\n",
      "2025-07-20 19:11:06,821 - INFO - [MEM: 4244.6MB] - Processing chunk 102, rows: 9570\n",
      "2025-07-20 19:11:07,085 - INFO - [MEM: 4244.6MB] - Processing chunk 103, rows: 9489\n",
      "2025-07-20 19:11:07,302 - INFO - [MEM: 4244.6MB] - Processing chunk 104, rows: 9548\n",
      "2025-07-20 19:11:07,510 - INFO - [MEM: 4244.6MB] - Processing chunk 105, rows: 9543\n",
      "2025-07-20 19:11:07,705 - INFO - [MEM: 4244.6MB] - Processing chunk 106, rows: 9449\n",
      "2025-07-20 19:11:07,886 - INFO - [MEM: 4244.6MB] - Processing chunk 107, rows: 9491\n",
      "2025-07-20 19:11:08,062 - INFO - [MEM: 4244.6MB] - Processing chunk 108, rows: 9523\n",
      "2025-07-20 19:11:08,239 - INFO - [MEM: 4244.6MB] - Processing chunk 109, rows: 9433\n",
      "2025-07-20 19:11:08,513 - INFO - [MEM: 4244.6MB] - Processing chunk 110, rows: 9604\n",
      "2025-07-20 19:11:08,679 - INFO - [MEM: 4244.6MB] - Processing chunk 111, rows: 9621\n",
      "2025-07-20 19:11:08,834 - INFO - [MEM: 4244.6MB] - Processing chunk 112, rows: 9424\n",
      "2025-07-20 19:11:08,994 - INFO - [MEM: 4244.6MB] - Processing chunk 113, rows: 9525\n",
      "2025-07-20 19:11:09,148 - INFO - [MEM: 4244.6MB] - Processing chunk 114, rows: 9460\n",
      "2025-07-20 19:11:09,314 - INFO - [MEM: 4244.6MB] - Processing chunk 115, rows: 9527\n",
      "2025-07-20 19:11:09,485 - INFO - [MEM: 4244.6MB] - Processing chunk 116, rows: 9483\n",
      "2025-07-20 19:11:09,661 - INFO - [MEM: 4244.6MB] - Processing chunk 117, rows: 9421\n",
      "2025-07-20 19:11:09,833 - INFO - [MEM: 4244.6MB] - Processing chunk 118, rows: 9549\n",
      "2025-07-20 19:11:09,999 - INFO - [MEM: 4244.6MB] - Processing chunk 119, rows: 9465\n",
      "2025-07-20 19:11:10,156 - INFO - [MEM: 4244.6MB] - Processing chunk 120, rows: 9547\n",
      "2025-07-20 19:11:10,320 - INFO - [MEM: 4244.6MB] - Processing chunk 121, rows: 9442\n",
      "2025-07-20 19:11:10,485 - INFO - [MEM: 4244.6MB] - Processing chunk 122, rows: 9517\n",
      "2025-07-20 19:11:10,657 - INFO - [MEM: 4244.6MB] - Processing chunk 123, rows: 9526\n",
      "2025-07-20 19:11:10,818 - INFO - [MEM: 4244.6MB] - Processing chunk 124, rows: 9420\n",
      "2025-07-20 19:11:11,058 - INFO - [MEM: 4244.6MB] - Processing chunk 125, rows: 9521\n",
      "2025-07-20 19:11:11,222 - INFO - [MEM: 4244.6MB] - Processing chunk 126, rows: 9493\n",
      "2025-07-20 19:11:11,395 - INFO - [MEM: 4244.6MB] - Processing chunk 127, rows: 9510\n",
      "2025-07-20 19:11:11,567 - INFO - [MEM: 4244.6MB] - Processing chunk 128, rows: 9570\n",
      "2025-07-20 19:11:11,738 - INFO - [MEM: 4244.6MB] - Processing chunk 129, rows: 9576\n",
      "2025-07-20 19:11:11,914 - INFO - [MEM: 4244.6MB] - Processing chunk 130, rows: 9532\n",
      "2025-07-20 19:11:12,088 - INFO - [MEM: 4244.6MB] - Processing chunk 131, rows: 9586\n",
      "2025-07-20 19:11:12,264 - INFO - [MEM: 4244.6MB] - Processing chunk 132, rows: 9553\n",
      "2025-07-20 19:11:12,433 - INFO - [MEM: 4244.6MB] - Processing chunk 133, rows: 9506\n",
      "2025-07-20 19:11:12,605 - INFO - [MEM: 4244.6MB] - Processing chunk 134, rows: 9522\n",
      "2025-07-20 19:11:12,779 - INFO - [MEM: 4244.6MB] - Processing chunk 135, rows: 9500\n",
      "2025-07-20 19:11:12,967 - INFO - [MEM: 4244.6MB] - Processing chunk 136, rows: 9576\n",
      "2025-07-20 19:11:13,151 - INFO - [MEM: 4244.6MB] - Processing chunk 137, rows: 9557\n",
      "2025-07-20 19:11:13,389 - INFO - [MEM: 4244.6MB] - Processing chunk 138, rows: 9395\n",
      "2025-07-20 19:11:13,562 - INFO - [MEM: 4244.6MB] - Processing chunk 139, rows: 9456\n",
      "2025-07-20 19:11:13,742 - INFO - [MEM: 4244.6MB] - Processing chunk 140, rows: 9512\n",
      "2025-07-20 19:11:13,921 - INFO - [MEM: 4244.6MB] - Processing chunk 141, rows: 9548\n",
      "2025-07-20 19:11:14,099 - INFO - [MEM: 4244.6MB] - Processing chunk 142, rows: 9461\n",
      "2025-07-20 19:11:14,272 - INFO - [MEM: 4244.6MB] - Processing chunk 143, rows: 9548\n",
      "2025-07-20 19:11:14,446 - INFO - [MEM: 4244.6MB] - Processing chunk 144, rows: 9541\n",
      "2025-07-20 19:11:14,627 - INFO - [MEM: 4244.6MB] - Processing chunk 145, rows: 9589\n",
      "2025-07-20 19:11:14,798 - INFO - [MEM: 4244.6MB] - Processing chunk 146, rows: 9525\n",
      "2025-07-20 19:11:14,964 - INFO - [MEM: 4244.6MB] - Processing chunk 147, rows: 9469\n",
      "2025-07-20 19:11:15,219 - INFO - [MEM: 4244.6MB] - Processing chunk 148, rows: 9517\n",
      "2025-07-20 19:11:15,430 - INFO - [MEM: 4244.6MB] - Processing chunk 149, rows: 9519\n",
      "2025-07-20 19:11:15,649 - INFO - [MEM: 4244.6MB] - Processing chunk 150, rows: 9508\n",
      "2025-07-20 19:11:15,861 - INFO - [MEM: 4244.6MB] - Processing chunk 151, rows: 9406\n",
      "2025-07-20 19:11:16,160 - INFO - [MEM: 4244.6MB] - Processing chunk 152, rows: 9553\n",
      "2025-07-20 19:11:16,350 - INFO - [MEM: 4244.6MB] - Processing chunk 153, rows: 9556\n",
      "2025-07-20 19:11:16,537 - INFO - [MEM: 4244.6MB] - Processing chunk 154, rows: 9516\n",
      "2025-07-20 19:11:16,732 - INFO - [MEM: 4244.6MB] - Processing chunk 155, rows: 9509\n",
      "2025-07-20 19:11:16,924 - INFO - [MEM: 4244.6MB] - Processing chunk 156, rows: 9484\n",
      "2025-07-20 19:11:17,111 - INFO - [MEM: 4244.6MB] - Processing chunk 157, rows: 9589\n",
      "2025-07-20 19:11:17,306 - INFO - [MEM: 4244.6MB] - Processing chunk 158, rows: 9586\n",
      "2025-07-20 19:11:17,489 - INFO - [MEM: 4244.6MB] - Processing chunk 159, rows: 9470\n",
      "2025-07-20 19:11:17,672 - INFO - [MEM: 4244.6MB] - Processing chunk 160, rows: 9527\n",
      "2025-07-20 19:11:17,855 - INFO - [MEM: 4244.6MB] - Processing chunk 161, rows: 9523\n",
      "2025-07-20 19:11:18,025 - INFO - [MEM: 4244.6MB] - Processing chunk 162, rows: 9535\n",
      "2025-07-20 19:11:18,194 - INFO - [MEM: 4244.6MB] - Processing chunk 163, rows: 9450\n",
      "2025-07-20 19:11:18,365 - INFO - [MEM: 4244.6MB] - Processing chunk 164, rows: 9523\n",
      "2025-07-20 19:11:18,615 - INFO - [MEM: 4244.6MB] - Processing chunk 165, rows: 9541\n",
      "2025-07-20 19:11:18,782 - INFO - [MEM: 4244.6MB] - Processing chunk 166, rows: 9456\n",
      "2025-07-20 19:11:18,966 - INFO - [MEM: 4244.6MB] - Processing chunk 167, rows: 9550\n",
      "2025-07-20 19:11:19,153 - INFO - [MEM: 4244.6MB] - Processing chunk 168, rows: 9522\n",
      "2025-07-20 19:11:19,332 - INFO - [MEM: 4244.6MB] - Processing chunk 169, rows: 9470\n",
      "2025-07-20 19:11:19,508 - INFO - [MEM: 4244.6MB] - Processing chunk 170, rows: 9507\n",
      "2025-07-20 19:11:19,690 - INFO - [MEM: 4244.6MB] - Processing chunk 171, rows: 9471\n",
      "2025-07-20 19:11:19,907 - INFO - [MEM: 4244.6MB] - Processing chunk 172, rows: 9468\n",
      "2025-07-20 19:11:20,153 - INFO - [MEM: 4244.6MB] - Processing chunk 173, rows: 9456\n",
      "2025-07-20 19:11:20,425 - INFO - [MEM: 4244.6MB] - Processing chunk 174, rows: 9550\n",
      "2025-07-20 19:11:20,698 - INFO - [MEM: 4244.6MB] - Processing chunk 175, rows: 9534\n",
      "2025-07-20 19:11:20,916 - INFO - [MEM: 4244.6MB] - Processing chunk 176, rows: 9419\n",
      "2025-07-20 19:11:21,108 - INFO - [MEM: 4244.6MB] - Processing chunk 177, rows: 9482\n",
      "2025-07-20 19:11:21,337 - INFO - [MEM: 4244.6MB] - Processing chunk 178, rows: 9553\n",
      "2025-07-20 19:11:21,654 - INFO - [MEM: 4244.6MB] - Processing chunk 179, rows: 9499\n",
      "2025-07-20 19:11:21,874 - INFO - [MEM: 4244.6MB] - Processing chunk 180, rows: 9590\n",
      "2025-07-20 19:11:22,075 - INFO - [MEM: 4244.6MB] - Processing chunk 181, rows: 9556\n",
      "2025-07-20 19:11:22,260 - INFO - [MEM: 4244.6MB] - Processing chunk 182, rows: 9512\n",
      "2025-07-20 19:11:22,434 - INFO - [MEM: 4244.6MB] - Processing chunk 183, rows: 9527\n",
      "2025-07-20 19:11:22,606 - INFO - [MEM: 4244.6MB] - Processing chunk 184, rows: 9468\n",
      "2025-07-20 19:11:22,784 - INFO - [MEM: 4244.6MB] - Processing chunk 185, rows: 9430\n",
      "2025-07-20 19:11:22,963 - INFO - [MEM: 4244.6MB] - Processing chunk 186, rows: 9405\n",
      "2025-07-20 19:11:23,134 - INFO - [MEM: 4244.6MB] - Processing chunk 187, rows: 9479\n",
      "2025-07-20 19:11:23,309 - INFO - [MEM: 4244.6MB] - Processing chunk 188, rows: 9589\n",
      "2025-07-20 19:11:23,485 - INFO - [MEM: 4244.6MB] - Processing chunk 189, rows: 9478\n",
      "2025-07-20 19:11:23,658 - INFO - [MEM: 4244.6MB] - Processing chunk 190, rows: 9454\n",
      "2025-07-20 19:11:23,834 - INFO - [MEM: 4244.6MB] - Processing chunk 191, rows: 9504\n",
      "2025-07-20 19:11:24,080 - INFO - [MEM: 4244.6MB] - Processing chunk 192, rows: 9568\n",
      "2025-07-20 19:11:24,242 - INFO - [MEM: 4244.6MB] - Processing chunk 193, rows: 9461\n",
      "2025-07-20 19:11:24,411 - INFO - [MEM: 4244.6MB] - Processing chunk 194, rows: 9522\n",
      "2025-07-20 19:11:24,570 - INFO - [MEM: 4244.6MB] - Processing chunk 195, rows: 9504\n",
      "2025-07-20 19:11:24,746 - INFO - [MEM: 4244.6MB] - Processing chunk 196, rows: 9536\n",
      "2025-07-20 19:11:24,926 - INFO - [MEM: 4244.6MB] - Processing chunk 197, rows: 9540\n",
      "2025-07-20 19:11:25,094 - INFO - [MEM: 4244.6MB] - Processing chunk 198, rows: 9574\n",
      "2025-07-20 19:11:25,264 - INFO - [MEM: 4244.6MB] - Processing chunk 199, rows: 9473\n",
      "2025-07-20 19:11:25,439 - INFO - [MEM: 4244.6MB] - Processing chunk 200, rows: 9552\n",
      "2025-07-20 19:11:25,612 - INFO - [MEM: 4244.6MB] - Processing chunk 201, rows: 9561\n",
      "2025-07-20 19:11:25,786 - INFO - [MEM: 4244.6MB] - Processing chunk 202, rows: 9547\n",
      "2025-07-20 19:11:25,965 - INFO - [MEM: 4244.6MB] - Processing chunk 203, rows: 9591\n",
      "2025-07-20 19:11:26,138 - INFO - [MEM: 4244.6MB] - Processing chunk 204, rows: 9477\n",
      "2025-07-20 19:11:26,314 - INFO - [MEM: 4244.6MB] - Processing chunk 205, rows: 9472\n",
      "2025-07-20 19:11:26,488 - INFO - [MEM: 4244.6MB] - Processing chunk 206, rows: 9534\n",
      "2025-07-20 19:11:26,660 - INFO - [MEM: 4244.6MB] - Processing chunk 207, rows: 9552\n",
      "2025-07-20 19:11:26,953 - INFO - [MEM: 4244.6MB] - Processing chunk 208, rows: 9506\n",
      "2025-07-20 19:11:27,125 - INFO - [MEM: 4244.6MB] - Processing chunk 209, rows: 9518\n",
      "2025-07-20 19:11:27,300 - INFO - [MEM: 4244.6MB] - Processing chunk 210, rows: 9520\n",
      "2025-07-20 19:11:27,481 - INFO - [MEM: 4244.6MB] - Processing chunk 211, rows: 9504\n",
      "2025-07-20 19:11:27,670 - INFO - [MEM: 4244.6MB] - Processing chunk 212, rows: 9476\n",
      "2025-07-20 19:11:27,828 - INFO - [MEM: 4244.6MB] - Processing chunk 213, rows: 7229\n",
      "2025-07-20 19:11:27,841 - INFO - [MEM: 4244.6MB] - Loaded 213 chunks with total 2027734 rows\n",
      "2025-07-20 19:11:27,841 - INFO - [MEM: 4244.6MB] - Combining chunks...\n",
      "2025-07-20 19:11:34,242 - INFO - [MEM: 4244.6MB] - Final dataset shape: (2027734, 19)\n"
     ]
    },
    {
     "name": "stdout",
     "output_type": "stream",
     "text": [
      "Memory: 4715.7MB -> 4924.5MB (freed: -208.8MB)\n",
      "Data loaded successfully. Shape: (2027734, 19)\n",
      "Memory usage after loading: 5533.9MB\n"
     ]
    }
   ],
   "source": [
    "\n",
    "\n",
    "# ============================================================================\n",
    "# BLOCK 2: Data Loading with Memory Optimization\n",
    "# ============================================================================\n",
    "\n",
    "def load_data_efficiently(file_path: Path, chunk_size: int = 10000) -> pd.DataFrame:\n",
    "    \"\"\"Load CSV data efficiently using chunking and memory optimization\"\"\"\n",
    "    import csv\n",
    "    \n",
    "    logger = setup_logging(\"data_loading\")\n",
    "    logger.info(\"Starting efficient data loading\")\n",
    "    \n",
    "    full_csv_path = CONFIG['DATA_DIR'] / CONFIG['KAGGLE_CSV_FILE']\n",
    "    \n",
    "    if not full_csv_path.exists():\n",
    "        error_msg = f\"Dataset CSV file not found at '{full_csv_path}'\"\n",
    "        logger.error(error_msg)\n",
    "        raise FileNotFoundError(error_msg)\n",
    "    \n",
    "    logger.info(f\"Loading data from: {full_csv_path}\")\n",
    "    \n",
    "    # First, get file size for progress tracking\n",
    "    file_size = full_csv_path.stat().st_size / 1024 / 1024  # MB\n",
    "    logger.info(f\"File size: {file_size:.1f}MB\")\n",
    "    \n",
    "    try:\n",
    "        # Increase CSV field size limit to handle large fields\n",
    "        csv.field_size_limit(min(2**31-1, 10**7))  # Set to 10MB or system max\n",
    "        logger.info(\"CSV field size limit increased for large fields\")\n",
    "        \n",
    "        # Read in chunks to manage memory\n",
    "        chunks = []\n",
    "        total_rows = 0\n",
    "        \n",
    "        chunk_reader = pd.read_csv(\n",
    "            full_csv_path,\n",
    "            sep='|',\n",
    "            engine='python',\n",
    "            on_bad_lines='skip',\n",
    "            chunksize=chunk_size,\n",
    "            low_memory=True,\n",
    "            quoting=csv.QUOTE_NONE,  # Handle quotes more flexibly\n",
    "            escapechar='\\\\',         # Handle escape characters\n",
    "            dtype=str               # Read everything as string first\n",
    "        )\n",
    "        \n",
    "        for i, chunk in enumerate(chunk_reader):\n",
    "            logger.info(f\"Processing chunk {i+1}, rows: {len(chunk)}\")\n",
    "            \n",
    "            # Basic cleaning on chunk\n",
    "            chunk = optimize_chunk_dtypes(chunk)\n",
    "            chunks.append(chunk)\n",
    "            total_rows += len(chunk)\n",
    "            \n",
    "            # Memory check\n",
    "            if check_memory_limit(CONFIG['MAX_MEMORY_MB']):\n",
    "                logger.warning(f\"Memory limit reached after {i+1} chunks\")\n",
    "                break\n",
    "        \n",
    "        logger.info(f\"Loaded {len(chunks)} chunks with total {total_rows} rows\")\n",
    "        \n",
    "        # Combine chunks efficiently\n",
    "        logger.info(\"Combining chunks...\")\n",
    "        df = pd.concat(chunks, ignore_index=True)\n",
    "        del chunks  # Free memory immediately\n",
    "        force_garbage_collection()\n",
    "        \n",
    "        logger.info(f\"Final dataset shape: {df.shape}\")\n",
    "        return df\n",
    "        \n",
    "    except Exception as e:\n",
    "        logger.error(f\"Error loading data: {e}\", exc_info=True)\n",
    "        raise\n",
    "\n",
    "def optimize_chunk_dtypes(chunk: pd.DataFrame) -> pd.DataFrame:\n",
    "    \"\"\"Optimize data types for a chunk to reduce memory usage\"\"\"\n",
    "    # Convert numeric columns with appropriate dtypes\n",
    "    if 'year' in chunk.columns:\n",
    "        chunk['year'] = pd.to_numeric(chunk['year'], errors='coerce', downcast='integer')\n",
    "    \n",
    "    if 'n_citation' in chunk.columns:\n",
    "        chunk['n_citation'] = pd.to_numeric(chunk['n_citation'], errors='coerce', downcast='integer')\n",
    "    \n",
    "    # Convert string columns to category if they have low cardinality\n",
    "    for col in ['lang', 'doc_type']:\n",
    "        if col in chunk.columns:\n",
    "            unique_ratio = chunk[col].nunique() / len(chunk)\n",
    "            if unique_ratio < 0.5:  # If less than 50% unique values\n",
    "                chunk[col] = chunk[col].astype('category')\n",
    "    \n",
    "    return chunk\n",
    "\n",
    "# Load data\n",
    "print(\"\\n\" + \"=\"*50)\n",
    "print(\"LOADING DATA\")\n",
    "print(\"=\"*50)\n",
    "\n",
    "df = load_data_efficiently(CONFIG['DATA_DIR'] / CONFIG['KAGGLE_CSV_FILE'], CONFIG['CHUNK_SIZE'])\n",
    "print(f\"Data loaded successfully. Shape: {df.shape}\")\n",
    "print(f\"Memory usage after loading: {get_memory_usage():.1f}MB\")"
   ]
  },
  {
   "cell_type": "code",
   "execution_count": 25,
   "id": "74b44729",
   "metadata": {},
   "outputs": [
    {
     "name": "stderr",
     "output_type": "stream",
     "text": [
      "2025-07-20 19:11:37,800 - INFO - [MEM: 5538.8MB] - Starting Memory-Efficient EDA\n",
      "2025-07-20 19:11:37,800 - INFO - [MEM: 5538.8MB] - Dataset shape: (2027734, 19)\n"
     ]
    },
    {
     "name": "stdout",
     "output_type": "stream",
     "text": [
      "\n",
      "==================================================\n",
      "EXPLORATORY DATA ANALYSIS\n",
      "==================================================\n"
     ]
    },
    {
     "name": "stderr",
     "output_type": "stream",
     "text": [
      "2025-07-20 19:11:46,430 - INFO - [MEM: 5538.8MB] - Memory usage: 4560.0MB\n",
      "2025-07-20 19:11:46,430 - INFO - [MEM: 5538.8MB] - Analyzing missing values...\n",
      "2025-07-20 19:11:47,910 - INFO - [MEM: 5538.8MB] - Columns with missing values: 19\n",
      "2025-07-20 19:11:47,910 - INFO - [MEM: 5538.8MB] - Analyzing target variable (n_citation)...\n",
      "2025-07-20 19:11:47,995 - INFO - [MEM: 5538.8MB] - Citation statistics:\n",
      "count    1.732752e+06\n",
      "mean     3.947402e+01\n",
      "std      3.290488e+02\n",
      "min      0.000000e+00\n",
      "25%      2.000000e+00\n",
      "50%      7.000000e+00\n",
      "75%      2.600000e+01\n",
      "max      1.218600e+05\n",
      "Name: n_citation, dtype: float64\n"
     ]
    },
    {
     "data": {
      "image/png": "[encoded data removed]",
      "text/plain": [
       "<Figure size 1000x600 with 1 Axes>"
      ]
     },
     "metadata": {},
     "output_type": "display_data"
    },
    {
     "name": "stderr",
     "output_type": "stream",
     "text": [
      "2025-07-20 19:11:48,327 - INFO - [MEM: 5538.8MB] - Analyzing publication years...\n",
      "2025-07-20 19:11:48,422 - INFO - [MEM: 5538.8MB] - Year statistics:\n",
      "count    1.732750e+06\n",
      "mean     2.004538e+03\n",
      "std      1.014931e+01\n",
      "min      0.000000e+00\n",
      "25%      2.001000e+03\n",
      "50%      2.007000e+03\n",
      "75%      2.011000e+03\n",
      "max      2.022000e+03\n",
      "Name: year, dtype: float64\n",
      "2025-07-20 19:11:48,423 - INFO - [MEM: 5538.8MB] - Analyzing text fields...\n",
      "2025-07-20 19:11:48,423 - INFO - [MEM: 5538.8MB] - Analyzing title...\n"
     ]
    },
    {
     "name": "stdout",
     "output_type": "stream",
     "text": [
      "Memory: 8479.9MB -> 8480.1MB (freed: -0.2MB)\n"
     ]
    },
    {
     "name": "stderr",
     "output_type": "stream",
     "text": [
      "2025-07-20 19:11:48,730 - INFO - [MEM: 5538.8MB] - title length statistics (sample):\n",
      "count    1000.000000\n",
      "mean       75.714000\n",
      "std        59.453502\n",
      "min         7.000000\n",
      "25%        51.000000\n",
      "50%        68.000000\n",
      "75%        87.000000\n",
      "max       926.000000\n",
      "Name: title, dtype: float64\n",
      "2025-07-20 19:11:48,731 - INFO - [MEM: 5538.8MB] - Analyzing abstract...\n",
      "2025-07-20 19:11:49,193 - INFO - [MEM: 5538.8MB] - abstract length statistics (sample):\n",
      "count    1000.000000\n",
      "mean      871.858000\n",
      "std       433.127937\n",
      "min         1.000000\n",
      "25%       582.750000\n",
      "50%       832.000000\n",
      "75%      1120.000000\n",
      "max      2859.000000\n",
      "Name: abstract, dtype: float64\n",
      "2025-07-20 19:11:49,194 - INFO - [MEM: 5538.8MB] - Analyzing keywords...\n",
      "2025-07-20 19:11:49,547 - INFO - [MEM: 5538.8MB] - keywords length statistics (sample):\n",
      "count    1000.000000\n",
      "mean      195.489000\n",
      "std       180.631286\n",
      "min         2.000000\n",
      "25%        44.000000\n",
      "50%       139.500000\n",
      "75%       315.000000\n",
      "max      1011.000000\n",
      "Name: keywords, dtype: float64\n",
      "2025-07-20 19:11:49,547 - INFO - [MEM: 5538.8MB] - EDA completed successfully\n"
     ]
    },
    {
     "name": "stdout",
     "output_type": "stream",
     "text": [
      "EDA completed. Memory usage: 8507.9MB\n",
      "\n",
      "Top columns with missing values:\n",
      "          Missing_Count  Missing_Percentage\n",
      "isbn            1648056           81.275749\n",
      "issue           1186867           58.531691\n",
      "issn            1027093           50.652255\n",
      "volume           940837           46.398443\n",
      "abstract         610654           30.115094\n",
      "\n",
      "Citation count statistics:\n",
      "count    1.732752e+06\n",
      "mean     3.947402e+01\n",
      "std      3.290488e+02\n",
      "min      0.000000e+00\n",
      "25%      2.000000e+00\n",
      "50%      7.000000e+00\n",
      "75%      2.600000e+01\n",
      "max      1.218600e+05\n",
      "Name: n_citation, dtype: float64\n"
     ]
    }
   ],
   "source": [
    "\n",
    "\n",
    "# ============================================================================\n",
    "# BLOCK 3: Memory-Efficient Exploratory Data Analysis\n",
    "# ============================================================================\n",
    "\n",
    "def perform_memory_efficient_eda(df: pd.DataFrame) -> Dict[str, Any]:\n",
    "    \"\"\"Perform EDA with memory efficiency in mind\"\"\"\n",
    "    logger = setup_logging(\"eda\")\n",
    "    logger.info(\"Starting Memory-Efficient EDA\")\n",
    "    \n",
    "    eda_results = {}\n",
    "    \n",
    "    try:\n",
    "        # Basic info\n",
    "        logger.info(f\"Dataset shape: {df.shape}\")\n",
    "        logger.info(f\"Memory usage: {df.memory_usage(deep=True).sum() / 1024**2:.1f}MB\")\n",
    "        \n",
    "        # Missing values analysis\n",
    "        logger.info(\"Analyzing missing values...\")\n",
    "        missing_info = df.isnull().sum()\n",
    "        missing_pct = (missing_info / len(df)) * 100\n",
    "        \n",
    "        missing_df = pd.DataFrame({\n",
    "            'Missing_Count': missing_info,\n",
    "            'Missing_Percentage': missing_pct\n",
    "        }).sort_values('Missing_Percentage', ascending=False)\n",
    "        \n",
    "        eda_results['missing_values'] = missing_df[missing_df['Missing_Count'] > 0]\n",
    "        logger.info(f\"Columns with missing values: {len(eda_results['missing_values'])}\")\n",
    "        \n",
    "        # Target variable analysis (n_citation)\n",
    "        if 'n_citation' in df.columns:\n",
    "            logger.info(\"Analyzing target variable (n_citation)...\")\n",
    "            df['n_citation'] = pd.to_numeric(df['n_citation'], errors='coerce')\n",
    "            \n",
    "            citation_stats = df['n_citation'].describe()\n",
    "            eda_results['citation_stats'] = citation_stats\n",
    "            logger.info(f\"Citation statistics:\\n{citation_stats}\")\n",
    "            \n",
    "            # Create histogram efficiently (sample if dataset is large)\n",
    "            sample_size = min(50000, len(df))\n",
    "            sample_df = df.sample(n=sample_size, random_state=CONFIG['RANDOM_STATE'])\n",
    "            \n",
    "            plt.figure(figsize=(10, 6))\n",
    "            plt.hist(sample_df['n_citation'].dropna(), bins=50, alpha=0.7, edgecolor='black')\n",
    "            plt.title(f'Distribution of Citation Counts (Sample: {sample_size} records)')\n",
    "            plt.xlabel('Citation Count')\n",
    "            plt.ylabel('Frequency')\n",
    "            plt.yscale('log')  # Log scale due to typical skewness\n",
    "            plt.show()\n",
    "            \n",
    "            del sample_df\n",
    "            force_garbage_collection()\n",
    "        \n",
    "        # Year analysis\n",
    "        if 'year' in df.columns:\n",
    "            logger.info(\"Analyzing publication years...\")\n",
    "            df['year'] = pd.to_numeric(df['year'], errors='coerce')\n",
    "            year_stats = df['year'].describe()\n",
    "            eda_results['year_stats'] = year_stats\n",
    "            logger.info(f\"Year statistics:\\n{year_stats}\")\n",
    "        \n",
    "        # Text field analysis (sample-based to save memory)\n",
    "        text_cols = ['title', 'abstract', 'keywords']\n",
    "        logger.info(\"Analyzing text fields...\")\n",
    "        \n",
    "        for col in text_cols:\n",
    "            if col in df.columns:\n",
    "                logger.info(f\"Analyzing {col}...\")\n",
    "                \n",
    "                # Sample for analysis\n",
    "                sample_texts = df[col].dropna().sample(min(1000, df[col].dropna().shape[0]), \n",
    "                                                     random_state=CONFIG['RANDOM_STATE'])\n",
    "                \n",
    "                if col == 'keywords':\n",
    "                    # Special handling for keywords\n",
    "                    sample_lengths = sample_texts.apply(lambda x: len(str(x)))\n",
    "                else:\n",
    "                    sample_lengths = sample_texts.str.len()\n",
    "                \n",
    "                eda_results[f'{col}_length_stats'] = sample_lengths.describe()\n",
    "                logger.info(f\"{col} length statistics (sample):\\n{sample_lengths.describe()}\")\n",
    "        \n",
    "        logger.info(\"EDA completed successfully\")\n",
    "        return eda_results\n",
    "        \n",
    "    except Exception as e:\n",
    "        logger.error(f\"Error during EDA: {e}\", exc_info=True)\n",
    "        raise\n",
    "\n",
    "# Perform EDA\n",
    "print(\"\\n\" + \"=\"*50)\n",
    "print(\"EXPLORATORY DATA ANALYSIS\")\n",
    "print(\"=\"*50)\n",
    "\n",
    "eda_results = perform_memory_efficient_eda(df)\n",
    "print(f\"EDA completed. Memory usage: {get_memory_usage():.1f}MB\")\n",
    "\n",
    "# Display key findings\n",
    "if 'missing_values' in eda_results and not eda_results['missing_values'].empty:\n",
    "    print(\"\\nTop columns with missing values:\")\n",
    "    print(eda_results['missing_values'].head())\n",
    "\n",
    "if 'citation_stats' in eda_results:\n",
    "    print(f\"\\nCitation count statistics:\")\n",
    "    print(eda_results['citation_stats'])"
   ]
  },
  {
   "cell_type": "code",
   "execution_count": 26,
   "id": "3d71e671",
   "metadata": {},
   "outputs": [
    {
     "name": "stderr",
     "output_type": "stream",
     "text": [
      "2025-07-20 19:11:49,567 - INFO - [MEM: 8508.2MB] - Starting data cleaning on 2027734 records\n"
     ]
    },
    {
     "name": "stdout",
     "output_type": "stream",
     "text": [
      "\n",
      "==================================================\n",
      "DATA CLEANING\n",
      "==================================================\n"
     ]
    },
    {
     "name": "stderr",
     "output_type": "stream",
     "text": [
      "2025-07-20 19:11:49,915 - INFO - [MEM: 8508.2MB] - Dropped columns: ['authors']\n"
     ]
    },
    {
     "name": "stdout",
     "output_type": "stream",
     "text": [
      "Memory: 8533.5MB -> 8533.5MB (freed: 0.0MB)\n"
     ]
    },
    {
     "name": "stderr",
     "output_type": "stream",
     "text": [
      "2025-07-20 19:11:50,522 - INFO - [MEM: 8508.2MB] - Removed 294982 rows with missing citations\n",
      "2025-07-20 19:11:50,560 - INFO - [MEM: 8508.2MB] - Filled missing years with mode: 2012\n",
      "2025-07-20 19:11:50,561 - INFO - [MEM: 8508.2MB] - Processing keywords...\n",
      "2025-07-20 19:11:50,723 - INFO - [MEM: 8508.2MB] - Processed keywords for 5000/1732752 records\n"
     ]
    },
    {
     "name": "stdout",
     "output_type": "stream",
     "text": [
      "WARNING: Memory usage (8897.0MB) exceeds limit (6144MB)\n",
      "Memory: 8897.0MB -> 8897.0MB (freed: 0.0MB)\n"
     ]
    },
    {
     "name": "stderr",
     "output_type": "stream",
     "text": [
      "2025-07-20 19:11:51,225 - INFO - [MEM: 8508.2MB] - Processed keywords for 25000/1732752 records\n"
     ]
    },
    {
     "name": "stdout",
     "output_type": "stream",
     "text": [
      "WARNING: Memory usage (8897.1MB) exceeds limit (6144MB)\n",
      "Memory: 8897.1MB -> 8897.1MB (freed: 0.0MB)\n"
     ]
    },
    {
     "name": "stderr",
     "output_type": "stream",
     "text": [
      "2025-07-20 19:11:52,162 - INFO - [MEM: 8508.2MB] - Processed keywords for 45000/1732752 records\n"
     ]
    },
    {
     "name": "stdout",
     "output_type": "stream",
     "text": [
      "WARNING: Memory usage (8897.2MB) exceeds limit (6144MB)\n",
      "Memory: 8897.2MB -> 8897.2MB (freed: 0.0MB)\n"
     ]
    },
    {
     "name": "stderr",
     "output_type": "stream",
     "text": [
      "2025-07-20 19:11:52,930 - INFO - [MEM: 8508.2MB] - Processed keywords for 65000/1732752 records\n"
     ]
    },
    {
     "name": "stdout",
     "output_type": "stream",
     "text": [
      "WARNING: Memory usage (8897.3MB) exceeds limit (6144MB)\n",
      "Memory: 8897.3MB -> 8897.3MB (freed: 0.0MB)\n"
     ]
    },
    {
     "name": "stderr",
     "output_type": "stream",
     "text": [
      "2025-07-20 19:11:53,684 - INFO - [MEM: 8508.2MB] - Processed keywords for 85000/1732752 records\n"
     ]
    },
    {
     "name": "stdout",
     "output_type": "stream",
     "text": [
      "WARNING: Memory usage (8897.5MB) exceeds limit (6144MB)\n",
      "Memory: 8897.5MB -> 8897.5MB (freed: 0.0MB)\n"
     ]
    },
    {
     "name": "stderr",
     "output_type": "stream",
     "text": [
      "2025-07-20 19:11:54,447 - INFO - [MEM: 8508.2MB] - Processed keywords for 105000/1732752 records\n"
     ]
    },
    {
     "name": "stdout",
     "output_type": "stream",
     "text": [
      "WARNING: Memory usage (8897.6MB) exceeds limit (6144MB)\n",
      "Memory: 8897.6MB -> 8897.6MB (freed: 0.0MB)\n"
     ]
    },
    {
     "name": "stderr",
     "output_type": "stream",
     "text": [
      "2025-07-20 19:11:55,226 - INFO - [MEM: 8508.2MB] - Processed keywords for 125000/1732752 records\n"
     ]
    },
    {
     "name": "stdout",
     "output_type": "stream",
     "text": [
      "WARNING: Memory usage (8897.6MB) exceeds limit (6144MB)\n",
      "Memory: 8897.6MB -> 8897.6MB (freed: 0.0MB)\n"
     ]
    },
    {
     "name": "stderr",
     "output_type": "stream",
     "text": [
      "2025-07-20 19:11:56,011 - INFO - [MEM: 8508.2MB] - Processed keywords for 145000/1732752 records\n"
     ]
    },
    {
     "name": "stdout",
     "output_type": "stream",
     "text": [
      "WARNING: Memory usage (8897.7MB) exceeds limit (6144MB)\n",
      "Memory: 8897.7MB -> 8897.7MB (freed: 0.0MB)\n"
     ]
    },
    {
     "name": "stderr",
     "output_type": "stream",
     "text": [
      "2025-07-20 19:11:56,707 - INFO - [MEM: 8508.2MB] - Processed keywords for 165000/1732752 records\n"
     ]
    },
    {
     "name": "stdout",
     "output_type": "stream",
     "text": [
      "WARNING: Memory usage (8897.7MB) exceeds limit (6144MB)\n",
      "Memory: 8897.7MB -> 8897.7MB (freed: 0.0MB)\n"
     ]
    },
    {
     "name": "stderr",
     "output_type": "stream",
     "text": [
      "2025-07-20 19:11:57,392 - INFO - [MEM: 8508.2MB] - Processed keywords for 185000/1732752 records\n"
     ]
    },
    {
     "name": "stdout",
     "output_type": "stream",
     "text": [
      "WARNING: Memory usage (8897.7MB) exceeds limit (6144MB)\n",
      "Memory: 8897.7MB -> 8897.7MB (freed: 0.0MB)\n"
     ]
    },
    {
     "name": "stderr",
     "output_type": "stream",
     "text": [
      "2025-07-20 19:11:58,142 - INFO - [MEM: 8508.2MB] - Processed keywords for 205000/1732752 records\n"
     ]
    },
    {
     "name": "stdout",
     "output_type": "stream",
     "text": [
      "WARNING: Memory usage (8897.7MB) exceeds limit (6144MB)\n",
      "Memory: 8897.7MB -> 8897.7MB (freed: 0.0MB)\n"
     ]
    },
    {
     "name": "stderr",
     "output_type": "stream",
     "text": [
      "2025-07-20 19:11:59,097 - INFO - [MEM: 8508.2MB] - Processed keywords for 225000/1732752 records\n"
     ]
    },
    {
     "name": "stdout",
     "output_type": "stream",
     "text": [
      "WARNING: Memory usage (8897.7MB) exceeds limit (6144MB)\n",
      "Memory: 8897.7MB -> 8897.7MB (freed: 0.0MB)\n"
     ]
    },
    {
     "name": "stderr",
     "output_type": "stream",
     "text": [
      "2025-07-20 19:11:59,883 - INFO - [MEM: 8508.2MB] - Processed keywords for 245000/1732752 records\n"
     ]
    },
    {
     "name": "stdout",
     "output_type": "stream",
     "text": [
      "WARNING: Memory usage (8897.7MB) exceeds limit (6144MB)\n",
      "Memory: 8897.7MB -> 8897.7MB (freed: 0.0MB)\n"
     ]
    },
    {
     "name": "stderr",
     "output_type": "stream",
     "text": [
      "2025-07-20 19:12:00,906 - INFO - [MEM: 8508.2MB] - Processed keywords for 265000/1732752 records\n"
     ]
    },
    {
     "name": "stdout",
     "output_type": "stream",
     "text": [
      "WARNING: Memory usage (8897.7MB) exceeds limit (6144MB)\n",
      "Memory: 8897.7MB -> 8897.7MB (freed: 0.0MB)\n"
     ]
    },
    {
     "name": "stderr",
     "output_type": "stream",
     "text": [
      "2025-07-20 19:12:01,764 - INFO - [MEM: 8508.2MB] - Processed keywords for 285000/1732752 records\n"
     ]
    },
    {
     "name": "stdout",
     "output_type": "stream",
     "text": [
      "WARNING: Memory usage (8897.7MB) exceeds limit (6144MB)\n",
      "Memory: 8897.7MB -> 8897.7MB (freed: 0.0MB)\n"
     ]
    },
    {
     "name": "stderr",
     "output_type": "stream",
     "text": [
      "2025-07-20 19:12:02,607 - INFO - [MEM: 8508.2MB] - Processed keywords for 305000/1732752 records\n"
     ]
    },
    {
     "name": "stdout",
     "output_type": "stream",
     "text": [
      "WARNING: Memory usage (8897.7MB) exceeds limit (6144MB)\n",
      "Memory: 8897.7MB -> 8897.7MB (freed: 0.0MB)\n"
     ]
    },
    {
     "name": "stderr",
     "output_type": "stream",
     "text": [
      "2025-07-20 19:12:03,407 - INFO - [MEM: 8508.2MB] - Processed keywords for 325000/1732752 records\n"
     ]
    },
    {
     "name": "stdout",
     "output_type": "stream",
     "text": [
      "WARNING: Memory usage (8897.7MB) exceeds limit (6144MB)\n",
      "Memory: 8897.7MB -> 8897.7MB (freed: 0.0MB)\n"
     ]
    },
    {
     "name": "stderr",
     "output_type": "stream",
     "text": [
      "2025-07-20 19:12:04,222 - INFO - [MEM: 8508.2MB] - Processed keywords for 345000/1732752 records\n"
     ]
    },
    {
     "name": "stdout",
     "output_type": "stream",
     "text": [
      "WARNING: Memory usage (8897.7MB) exceeds limit (6144MB)\n",
      "Memory: 8897.7MB -> 8897.7MB (freed: 0.0MB)\n"
     ]
    },
    {
     "name": "stderr",
     "output_type": "stream",
     "text": [
      "2025-07-20 19:12:05,049 - INFO - [MEM: 8508.2MB] - Processed keywords for 365000/1732752 records\n"
     ]
    },
    {
     "name": "stdout",
     "output_type": "stream",
     "text": [
      "WARNING: Memory usage (8897.8MB) exceeds limit (6144MB)\n",
      "Memory: 8897.8MB -> 8897.8MB (freed: 0.0MB)\n"
     ]
    },
    {
     "name": "stderr",
     "output_type": "stream",
     "text": [
      "2025-07-20 19:12:05,899 - INFO - [MEM: 8508.2MB] - Processed keywords for 385000/1732752 records\n"
     ]
    },
    {
     "name": "stdout",
     "output_type": "stream",
     "text": [
      "WARNING: Memory usage (8897.8MB) exceeds limit (6144MB)\n",
      "Memory: 8897.8MB -> 8897.8MB (freed: 0.0MB)\n"
     ]
    },
    {
     "name": "stderr",
     "output_type": "stream",
     "text": [
      "2025-07-20 19:12:06,948 - INFO - [MEM: 8508.2MB] - Processed keywords for 405000/1732752 records\n"
     ]
    },
    {
     "name": "stdout",
     "output_type": "stream",
     "text": [
      "WARNING: Memory usage (8897.8MB) exceeds limit (6144MB)\n",
      "Memory: 8897.8MB -> 8897.8MB (freed: 0.0MB)\n"
     ]
    },
    {
     "name": "stderr",
     "output_type": "stream",
     "text": [
      "2025-07-20 19:12:07,952 - INFO - [MEM: 8508.2MB] - Processed keywords for 425000/1732752 records\n"
     ]
    },
    {
     "name": "stdout",
     "output_type": "stream",
     "text": [
      "WARNING: Memory usage (8897.8MB) exceeds limit (6144MB)\n",
      "Memory: 8897.8MB -> 8897.8MB (freed: 0.0MB)\n"
     ]
    },
    {
     "name": "stderr",
     "output_type": "stream",
     "text": [
      "2025-07-20 19:12:08,848 - INFO - [MEM: 8508.2MB] - Processed keywords for 445000/1732752 records\n"
     ]
    },
    {
     "name": "stdout",
     "output_type": "stream",
     "text": [
      "WARNING: Memory usage (8897.8MB) exceeds limit (6144MB)\n",
      "Memory: 8897.8MB -> 8897.8MB (freed: 0.0MB)\n"
     ]
    },
    {
     "name": "stderr",
     "output_type": "stream",
     "text": [
      "2025-07-20 19:12:09,721 - INFO - [MEM: 8508.2MB] - Processed keywords for 465000/1732752 records\n"
     ]
    },
    {
     "name": "stdout",
     "output_type": "stream",
     "text": [
      "WARNING: Memory usage (8897.8MB) exceeds limit (6144MB)\n",
      "Memory: 8897.8MB -> 8897.8MB (freed: 0.0MB)\n"
     ]
    },
    {
     "name": "stderr",
     "output_type": "stream",
     "text": [
      "2025-07-20 19:12:10,562 - INFO - [MEM: 8508.2MB] - Processed keywords for 485000/1732752 records\n"
     ]
    },
    {
     "name": "stdout",
     "output_type": "stream",
     "text": [
      "WARNING: Memory usage (8897.8MB) exceeds limit (6144MB)\n",
      "Memory: 8897.8MB -> 8897.8MB (freed: 0.0MB)\n"
     ]
    },
    {
     "name": "stderr",
     "output_type": "stream",
     "text": [
      "2025-07-20 19:12:11,438 - INFO - [MEM: 8508.2MB] - Processed keywords for 505000/1732752 records\n"
     ]
    },
    {
     "name": "stdout",
     "output_type": "stream",
     "text": [
      "WARNING: Memory usage (8897.8MB) exceeds limit (6144MB)\n",
      "Memory: 8897.8MB -> 8897.8MB (freed: 0.0MB)\n"
     ]
    },
    {
     "name": "stderr",
     "output_type": "stream",
     "text": [
      "2025-07-20 19:12:12,338 - INFO - [MEM: 8508.2MB] - Processed keywords for 525000/1732752 records\n"
     ]
    },
    {
     "name": "stdout",
     "output_type": "stream",
     "text": [
      "WARNING: Memory usage (8897.8MB) exceeds limit (6144MB)\n",
      "Memory: 8897.8MB -> 8897.8MB (freed: 0.0MB)\n"
     ]
    },
    {
     "name": "stderr",
     "output_type": "stream",
     "text": [
      "2025-07-20 19:12:13,231 - INFO - [MEM: 8508.2MB] - Processed keywords for 545000/1732752 records\n"
     ]
    },
    {
     "name": "stdout",
     "output_type": "stream",
     "text": [
      "WARNING: Memory usage (8897.8MB) exceeds limit (6144MB)\n",
      "Memory: 8897.8MB -> 8897.8MB (freed: 0.0MB)\n"
     ]
    },
    {
     "name": "stderr",
     "output_type": "stream",
     "text": [
      "2025-07-20 19:12:14,139 - INFO - [MEM: 8508.2MB] - Processed keywords for 565000/1732752 records\n"
     ]
    },
    {
     "name": "stdout",
     "output_type": "stream",
     "text": [
      "WARNING: Memory usage (8897.8MB) exceeds limit (6144MB)\n",
      "Memory: 8897.8MB -> 8897.8MB (freed: 0.0MB)\n"
     ]
    },
    {
     "name": "stderr",
     "output_type": "stream",
     "text": [
      "2025-07-20 19:12:15,048 - INFO - [MEM: 8508.2MB] - Processed keywords for 585000/1732752 records\n"
     ]
    },
    {
     "name": "stdout",
     "output_type": "stream",
     "text": [
      "WARNING: Memory usage (8897.8MB) exceeds limit (6144MB)\n",
      "Memory: 8897.8MB -> 8897.8MB (freed: 0.0MB)\n"
     ]
    },
    {
     "name": "stderr",
     "output_type": "stream",
     "text": [
      "2025-07-20 19:12:15,968 - INFO - [MEM: 8508.2MB] - Processed keywords for 605000/1732752 records\n"
     ]
    },
    {
     "name": "stdout",
     "output_type": "stream",
     "text": [
      "WARNING: Memory usage (8897.8MB) exceeds limit (6144MB)\n",
      "Memory: 8897.8MB -> 8897.8MB (freed: 0.0MB)\n"
     ]
    },
    {
     "name": "stderr",
     "output_type": "stream",
     "text": [
      "2025-07-20 19:12:16,917 - INFO - [MEM: 8508.2MB] - Processed keywords for 625000/1732752 records\n"
     ]
    },
    {
     "name": "stdout",
     "output_type": "stream",
     "text": [
      "WARNING: Memory usage (8897.8MB) exceeds limit (6144MB)\n",
      "Memory: 8897.8MB -> 8897.8MB (freed: 0.0MB)\n"
     ]
    },
    {
     "name": "stderr",
     "output_type": "stream",
     "text": [
      "2025-07-20 19:12:17,926 - INFO - [MEM: 8508.2MB] - Processed keywords for 645000/1732752 records\n"
     ]
    },
    {
     "name": "stdout",
     "output_type": "stream",
     "text": [
      "WARNING: Memory usage (8897.8MB) exceeds limit (6144MB)\n",
      "Memory: 8897.8MB -> 8897.8MB (freed: 0.0MB)\n"
     ]
    },
    {
     "name": "stderr",
     "output_type": "stream",
     "text": [
      "2025-07-20 19:12:18,896 - INFO - [MEM: 8508.2MB] - Processed keywords for 665000/1732752 records\n"
     ]
    },
    {
     "name": "stdout",
     "output_type": "stream",
     "text": [
      "WARNING: Memory usage (8897.8MB) exceeds limit (6144MB)\n",
      "Memory: 8897.8MB -> 8897.8MB (freed: 0.0MB)\n"
     ]
    },
    {
     "name": "stderr",
     "output_type": "stream",
     "text": [
      "2025-07-20 19:12:19,877 - INFO - [MEM: 8508.2MB] - Processed keywords for 685000/1732752 records\n"
     ]
    },
    {
     "name": "stdout",
     "output_type": "stream",
     "text": [
      "WARNING: Memory usage (8897.8MB) exceeds limit (6144MB)\n",
      "Memory: 8897.8MB -> 8897.8MB (freed: 0.0MB)\n"
     ]
    },
    {
     "name": "stderr",
     "output_type": "stream",
     "text": [
      "2025-07-20 19:12:21,100 - INFO - [MEM: 8508.2MB] - Processed keywords for 705000/1732752 records\n"
     ]
    },
    {
     "name": "stdout",
     "output_type": "stream",
     "text": [
      "WARNING: Memory usage (8897.8MB) exceeds limit (6144MB)\n",
      "Memory: 8897.8MB -> 8897.8MB (freed: 0.0MB)\n"
     ]
    },
    {
     "name": "stderr",
     "output_type": "stream",
     "text": [
      "2025-07-20 19:12:22,368 - INFO - [MEM: 8508.2MB] - Processed keywords for 725000/1732752 records\n"
     ]
    },
    {
     "name": "stdout",
     "output_type": "stream",
     "text": [
      "WARNING: Memory usage (8897.8MB) exceeds limit (6144MB)\n",
      "Memory: 8897.8MB -> 8897.8MB (freed: 0.0MB)\n"
     ]
    },
    {
     "name": "stderr",
     "output_type": "stream",
     "text": [
      "2025-07-20 19:12:23,588 - INFO - [MEM: 8508.2MB] - Processed keywords for 745000/1732752 records\n"
     ]
    },
    {
     "name": "stdout",
     "output_type": "stream",
     "text": [
      "WARNING: Memory usage (8897.8MB) exceeds limit (6144MB)\n",
      "Memory: 8897.8MB -> 8897.8MB (freed: 0.0MB)\n"
     ]
    },
    {
     "name": "stderr",
     "output_type": "stream",
     "text": [
      "2025-07-20 19:12:24,761 - INFO - [MEM: 8508.2MB] - Processed keywords for 765000/1732752 records\n"
     ]
    },
    {
     "name": "stdout",
     "output_type": "stream",
     "text": [
      "WARNING: Memory usage (8897.8MB) exceeds limit (6144MB)\n",
      "Memory: 8897.8MB -> 8897.8MB (freed: 0.0MB)\n"
     ]
    },
    {
     "name": "stderr",
     "output_type": "stream",
     "text": [
      "2025-07-20 19:12:25,755 - INFO - [MEM: 8508.2MB] - Processed keywords for 785000/1732752 records\n"
     ]
    },
    {
     "name": "stdout",
     "output_type": "stream",
     "text": [
      "WARNING: Memory usage (8897.8MB) exceeds limit (6144MB)\n",
      "Memory: 8897.8MB -> 8897.8MB (freed: 0.0MB)\n"
     ]
    },
    {
     "name": "stderr",
     "output_type": "stream",
     "text": [
      "2025-07-20 19:12:26,694 - INFO - [MEM: 8508.2MB] - Processed keywords for 805000/1732752 records\n"
     ]
    },
    {
     "name": "stdout",
     "output_type": "stream",
     "text": [
      "WARNING: Memory usage (8897.8MB) exceeds limit (6144MB)\n",
      "Memory: 8897.8MB -> 8897.8MB (freed: 0.0MB)\n"
     ]
    },
    {
     "name": "stderr",
     "output_type": "stream",
     "text": [
      "2025-07-20 19:12:27,666 - INFO - [MEM: 8508.2MB] - Processed keywords for 825000/1732752 records\n"
     ]
    },
    {
     "name": "stdout",
     "output_type": "stream",
     "text": [
      "WARNING: Memory usage (8897.8MB) exceeds limit (6144MB)\n",
      "Memory: 8897.8MB -> 8897.8MB (freed: 0.0MB)\n"
     ]
    },
    {
     "name": "stderr",
     "output_type": "stream",
     "text": [
      "2025-07-20 19:12:28,897 - INFO - [MEM: 8508.2MB] - Processed keywords for 845000/1732752 records\n"
     ]
    },
    {
     "name": "stdout",
     "output_type": "stream",
     "text": [
      "WARNING: Memory usage (8897.8MB) exceeds limit (6144MB)\n",
      "Memory: 8897.8MB -> 8897.8MB (freed: 0.0MB)\n"
     ]
    },
    {
     "name": "stderr",
     "output_type": "stream",
     "text": [
      "2025-07-20 19:12:30,072 - INFO - [MEM: 8508.2MB] - Processed keywords for 865000/1732752 records\n"
     ]
    },
    {
     "name": "stdout",
     "output_type": "stream",
     "text": [
      "WARNING: Memory usage (8897.8MB) exceeds limit (6144MB)\n",
      "Memory: 8897.8MB -> 8897.8MB (freed: 0.0MB)\n"
     ]
    },
    {
     "name": "stderr",
     "output_type": "stream",
     "text": [
      "2025-07-20 19:12:31,135 - INFO - [MEM: 8508.2MB] - Processed keywords for 885000/1732752 records\n"
     ]
    },
    {
     "name": "stdout",
     "output_type": "stream",
     "text": [
      "WARNING: Memory usage (8898.0MB) exceeds limit (6144MB)\n",
      "Memory: 8898.0MB -> 8898.0MB (freed: 0.0MB)\n"
     ]
    },
    {
     "name": "stderr",
     "output_type": "stream",
     "text": [
      "2025-07-20 19:12:32,187 - INFO - [MEM: 8508.2MB] - Processed keywords for 905000/1732752 records\n"
     ]
    },
    {
     "name": "stdout",
     "output_type": "stream",
     "text": [
      "WARNING: Memory usage (8898.0MB) exceeds limit (6144MB)\n",
      "Memory: 8898.0MB -> 8898.0MB (freed: 0.0MB)\n"
     ]
    },
    {
     "name": "stderr",
     "output_type": "stream",
     "text": [
      "2025-07-20 19:12:33,252 - INFO - [MEM: 8508.2MB] - Processed keywords for 925000/1732752 records\n"
     ]
    },
    {
     "name": "stdout",
     "output_type": "stream",
     "text": [
      "WARNING: Memory usage (8898.0MB) exceeds limit (6144MB)\n",
      "Memory: 8898.0MB -> 8898.0MB (freed: 0.0MB)\n"
     ]
    },
    {
     "name": "stderr",
     "output_type": "stream",
     "text": [
      "2025-07-20 19:12:34,312 - INFO - [MEM: 8508.2MB] - Processed keywords for 945000/1732752 records\n"
     ]
    },
    {
     "name": "stdout",
     "output_type": "stream",
     "text": [
      "WARNING: Memory usage (8898.0MB) exceeds limit (6144MB)\n",
      "Memory: 8898.0MB -> 8898.0MB (freed: 0.0MB)\n"
     ]
    },
    {
     "name": "stderr",
     "output_type": "stream",
     "text": [
      "2025-07-20 19:12:35,333 - INFO - [MEM: 8508.2MB] - Processed keywords for 965000/1732752 records\n"
     ]
    },
    {
     "name": "stdout",
     "output_type": "stream",
     "text": [
      "WARNING: Memory usage (8898.0MB) exceeds limit (6144MB)\n",
      "Memory: 8898.0MB -> 8898.0MB (freed: 0.0MB)\n"
     ]
    },
    {
     "name": "stderr",
     "output_type": "stream",
     "text": [
      "2025-07-20 19:12:36,382 - INFO - [MEM: 8508.2MB] - Processed keywords for 985000/1732752 records\n"
     ]
    },
    {
     "name": "stdout",
     "output_type": "stream",
     "text": [
      "WARNING: Memory usage (8897.8MB) exceeds limit (6144MB)\n",
      "Memory: 8897.8MB -> 8897.8MB (freed: 0.0MB)\n"
     ]
    },
    {
     "name": "stderr",
     "output_type": "stream",
     "text": [
      "2025-07-20 19:12:37,791 - INFO - [MEM: 8508.2MB] - Processed keywords for 1005000/1732752 records\n"
     ]
    },
    {
     "name": "stdout",
     "output_type": "stream",
     "text": [
      "WARNING: Memory usage (8897.8MB) exceeds limit (6144MB)\n",
      "Memory: 8897.8MB -> 8897.8MB (freed: 0.0MB)\n"
     ]
    },
    {
     "name": "stderr",
     "output_type": "stream",
     "text": [
      "2025-07-20 19:12:39,015 - INFO - [MEM: 8508.2MB] - Processed keywords for 1025000/1732752 records\n"
     ]
    },
    {
     "name": "stdout",
     "output_type": "stream",
     "text": [
      "WARNING: Memory usage (8897.8MB) exceeds limit (6144MB)\n",
      "Memory: 8897.8MB -> 8897.8MB (freed: 0.0MB)\n"
     ]
    },
    {
     "name": "stderr",
     "output_type": "stream",
     "text": [
      "2025-07-20 19:12:40,196 - INFO - [MEM: 8508.2MB] - Processed keywords for 1045000/1732752 records\n"
     ]
    },
    {
     "name": "stdout",
     "output_type": "stream",
     "text": [
      "WARNING: Memory usage (8830.9MB) exceeds limit (6144MB)\n",
      "Memory: 8830.9MB -> 8820.7MB (freed: 10.2MB)\n"
     ]
    },
    {
     "name": "stderr",
     "output_type": "stream",
     "text": [
      "2025-07-20 19:12:41,526 - INFO - [MEM: 8508.2MB] - Processed keywords for 1065000/1732752 records\n"
     ]
    },
    {
     "name": "stdout",
     "output_type": "stream",
     "text": [
      "WARNING: Memory usage (8820.7MB) exceeds limit (6144MB)\n",
      "Memory: 8820.7MB -> 8820.7MB (freed: 0.0MB)\n"
     ]
    },
    {
     "name": "stderr",
     "output_type": "stream",
     "text": [
      "2025-07-20 19:12:42,639 - INFO - [MEM: 8508.2MB] - Processed keywords for 1085000/1732752 records\n"
     ]
    },
    {
     "name": "stdout",
     "output_type": "stream",
     "text": [
      "WARNING: Memory usage (8820.7MB) exceeds limit (6144MB)\n",
      "Memory: 8820.7MB -> 8820.7MB (freed: 0.0MB)\n"
     ]
    },
    {
     "name": "stderr",
     "output_type": "stream",
     "text": [
      "2025-07-20 19:12:43,668 - INFO - [MEM: 8508.2MB] - Processed keywords for 1105000/1732752 records\n"
     ]
    },
    {
     "name": "stdout",
     "output_type": "stream",
     "text": [
      "WARNING: Memory usage (8820.7MB) exceeds limit (6144MB)\n",
      "Memory: 8820.7MB -> 8820.7MB (freed: 0.0MB)\n"
     ]
    },
    {
     "name": "stderr",
     "output_type": "stream",
     "text": [
      "2025-07-20 19:12:44,720 - INFO - [MEM: 8508.2MB] - Processed keywords for 1125000/1732752 records\n"
     ]
    },
    {
     "name": "stdout",
     "output_type": "stream",
     "text": [
      "WARNING: Memory usage (8820.7MB) exceeds limit (6144MB)\n",
      "Memory: 8820.7MB -> 8820.7MB (freed: 0.0MB)\n"
     ]
    },
    {
     "name": "stderr",
     "output_type": "stream",
     "text": [
      "2025-07-20 19:12:45,791 - INFO - [MEM: 8508.2MB] - Processed keywords for 1145000/1732752 records\n"
     ]
    },
    {
     "name": "stdout",
     "output_type": "stream",
     "text": [
      "WARNING: Memory usage (8821.2MB) exceeds limit (6144MB)\n",
      "Memory: 8821.2MB -> 8821.2MB (freed: 0.0MB)\n"
     ]
    },
    {
     "name": "stderr",
     "output_type": "stream",
     "text": [
      "2025-07-20 19:12:46,874 - INFO - [MEM: 8508.2MB] - Processed keywords for 1165000/1732752 records\n"
     ]
    },
    {
     "name": "stdout",
     "output_type": "stream",
     "text": [
      "WARNING: Memory usage (8821.2MB) exceeds limit (6144MB)\n",
      "Memory: 8821.2MB -> 8821.2MB (freed: 0.0MB)\n"
     ]
    },
    {
     "name": "stderr",
     "output_type": "stream",
     "text": [
      "2025-07-20 19:12:47,985 - INFO - [MEM: 8508.2MB] - Processed keywords for 1185000/1732752 records\n"
     ]
    },
    {
     "name": "stdout",
     "output_type": "stream",
     "text": [
      "WARNING: Memory usage (8821.2MB) exceeds limit (6144MB)\n",
      "Memory: 8821.2MB -> 8821.2MB (freed: 0.0MB)\n"
     ]
    },
    {
     "name": "stderr",
     "output_type": "stream",
     "text": [
      "2025-07-20 19:12:49,073 - INFO - [MEM: 8508.2MB] - Processed keywords for 1205000/1732752 records\n"
     ]
    },
    {
     "name": "stdout",
     "output_type": "stream",
     "text": [
      "WARNING: Memory usage (8821.2MB) exceeds limit (6144MB)\n",
      "Memory: 8821.2MB -> 8821.2MB (freed: 0.0MB)\n"
     ]
    },
    {
     "name": "stderr",
     "output_type": "stream",
     "text": [
      "2025-07-20 19:12:50,260 - INFO - [MEM: 8508.2MB] - Processed keywords for 1225000/1732752 records\n"
     ]
    },
    {
     "name": "stdout",
     "output_type": "stream",
     "text": [
      "WARNING: Memory usage (8821.2MB) exceeds limit (6144MB)\n",
      "Memory: 8821.2MB -> 8821.2MB (freed: 0.0MB)\n"
     ]
    },
    {
     "name": "stderr",
     "output_type": "stream",
     "text": [
      "2025-07-20 19:12:51,532 - INFO - [MEM: 8508.2MB] - Processed keywords for 1245000/1732752 records\n"
     ]
    },
    {
     "name": "stdout",
     "output_type": "stream",
     "text": [
      "WARNING: Memory usage (8796.0MB) exceeds limit (6144MB)\n",
      "Memory: 8796.0MB -> 8786.5MB (freed: 9.5MB)\n"
     ]
    },
    {
     "name": "stderr",
     "output_type": "stream",
     "text": [
      "2025-07-20 19:12:53,010 - INFO - [MEM: 8508.2MB] - Processed keywords for 1265000/1732752 records\n"
     ]
    },
    {
     "name": "stdout",
     "output_type": "stream",
     "text": [
      "WARNING: Memory usage (8786.5MB) exceeds limit (6144MB)\n",
      "Memory: 8786.5MB -> 8786.5MB (freed: 0.0MB)\n"
     ]
    },
    {
     "name": "stderr",
     "output_type": "stream",
     "text": [
      "2025-07-20 19:12:54,239 - INFO - [MEM: 8508.2MB] - Processed keywords for 1285000/1732752 records\n"
     ]
    },
    {
     "name": "stdout",
     "output_type": "stream",
     "text": [
      "WARNING: Memory usage (8786.5MB) exceeds limit (6144MB)\n",
      "Memory: 8786.5MB -> 8786.5MB (freed: 0.0MB)\n"
     ]
    },
    {
     "name": "stderr",
     "output_type": "stream",
     "text": [
      "2025-07-20 19:12:55,381 - INFO - [MEM: 8508.2MB] - Processed keywords for 1305000/1732752 records\n"
     ]
    },
    {
     "name": "stdout",
     "output_type": "stream",
     "text": [
      "WARNING: Memory usage (8786.5MB) exceeds limit (6144MB)\n",
      "Memory: 8786.5MB -> 8786.5MB (freed: 0.0MB)\n"
     ]
    },
    {
     "name": "stderr",
     "output_type": "stream",
     "text": [
      "2025-07-20 19:12:56,494 - INFO - [MEM: 8508.2MB] - Processed keywords for 1325000/1732752 records\n"
     ]
    },
    {
     "name": "stdout",
     "output_type": "stream",
     "text": [
      "WARNING: Memory usage (8786.5MB) exceeds limit (6144MB)\n",
      "Memory: 8786.5MB -> 8786.5MB (freed: 0.0MB)\n"
     ]
    },
    {
     "name": "stderr",
     "output_type": "stream",
     "text": [
      "2025-07-20 19:12:57,705 - INFO - [MEM: 8508.2MB] - Processed keywords for 1345000/1732752 records\n"
     ]
    },
    {
     "name": "stdout",
     "output_type": "stream",
     "text": [
      "WARNING: Memory usage (8786.5MB) exceeds limit (6144MB)\n",
      "Memory: 8786.5MB -> 8734.5MB (freed: 52.1MB)\n"
     ]
    },
    {
     "name": "stderr",
     "output_type": "stream",
     "text": [
      "2025-07-20 19:12:59,355 - INFO - [MEM: 8508.2MB] - Processed keywords for 1365000/1732752 records\n"
     ]
    },
    {
     "name": "stdout",
     "output_type": "stream",
     "text": [
      "WARNING: Memory usage (8713.2MB) exceeds limit (6144MB)\n",
      "Memory: 8713.2MB -> 8670.6MB (freed: 42.7MB)\n"
     ]
    },
    {
     "name": "stderr",
     "output_type": "stream",
     "text": [
      "2025-07-20 19:13:00,785 - INFO - [MEM: 8508.2MB] - Processed keywords for 1385000/1732752 records\n"
     ]
    },
    {
     "name": "stdout",
     "output_type": "stream",
     "text": [
      "WARNING: Memory usage (8669.0MB) exceeds limit (6144MB)\n",
      "Memory: 8669.0MB -> 8669.0MB (freed: 0.0MB)\n"
     ]
    },
    {
     "name": "stderr",
     "output_type": "stream",
     "text": [
      "2025-07-20 19:13:02,100 - INFO - [MEM: 8508.2MB] - Processed keywords for 1405000/1732752 records\n"
     ]
    },
    {
     "name": "stdout",
     "output_type": "stream",
     "text": [
      "WARNING: Memory usage (8669.0MB) exceeds limit (6144MB)\n",
      "Memory: 8669.0MB -> 8669.0MB (freed: 0.0MB)\n"
     ]
    },
    {
     "name": "stderr",
     "output_type": "stream",
     "text": [
      "2025-07-20 19:13:03,324 - INFO - [MEM: 8508.2MB] - Processed keywords for 1425000/1732752 records\n"
     ]
    },
    {
     "name": "stdout",
     "output_type": "stream",
     "text": [
      "WARNING: Memory usage (8669.0MB) exceeds limit (6144MB)\n",
      "Memory: 8669.0MB -> 8669.0MB (freed: 0.0MB)\n"
     ]
    },
    {
     "name": "stderr",
     "output_type": "stream",
     "text": [
      "2025-07-20 19:13:04,540 - INFO - [MEM: 8508.2MB] - Processed keywords for 1445000/1732752 records\n"
     ]
    },
    {
     "name": "stdout",
     "output_type": "stream",
     "text": [
      "WARNING: Memory usage (8669.0MB) exceeds limit (6144MB)\n",
      "Memory: 8669.0MB -> 8669.0MB (freed: 0.0MB)\n"
     ]
    },
    {
     "name": "stderr",
     "output_type": "stream",
     "text": [
      "2025-07-20 19:13:05,739 - INFO - [MEM: 8508.2MB] - Processed keywords for 1465000/1732752 records\n"
     ]
    },
    {
     "name": "stdout",
     "output_type": "stream",
     "text": [
      "WARNING: Memory usage (8669.0MB) exceeds limit (6144MB)\n",
      "Memory: 8669.0MB -> 8627.2MB (freed: 41.8MB)\n"
     ]
    },
    {
     "name": "stderr",
     "output_type": "stream",
     "text": [
      "2025-07-20 19:13:07,471 - INFO - [MEM: 8508.2MB] - Processed keywords for 1485000/1732752 records\n"
     ]
    },
    {
     "name": "stdout",
     "output_type": "stream",
     "text": [
      "WARNING: Memory usage (8545.9MB) exceeds limit (6144MB)\n",
      "Memory: 8545.9MB -> 8546.0MB (freed: -0.0MB)\n"
     ]
    },
    {
     "name": "stderr",
     "output_type": "stream",
     "text": [
      "2025-07-20 19:13:08,772 - INFO - [MEM: 8508.2MB] - Processed keywords for 1505000/1732752 records\n"
     ]
    },
    {
     "name": "stdout",
     "output_type": "stream",
     "text": [
      "WARNING: Memory usage (8546.0MB) exceeds limit (6144MB)\n",
      "Memory: 8546.0MB -> 8546.0MB (freed: 0.0MB)\n"
     ]
    },
    {
     "name": "stderr",
     "output_type": "stream",
     "text": [
      "2025-07-20 19:13:09,932 - INFO - [MEM: 8508.2MB] - Processed keywords for 1525000/1732752 records\n"
     ]
    },
    {
     "name": "stdout",
     "output_type": "stream",
     "text": [
      "WARNING: Memory usage (8546.0MB) exceeds limit (6144MB)\n",
      "Memory: 8546.0MB -> 8546.0MB (freed: 0.0MB)\n"
     ]
    },
    {
     "name": "stderr",
     "output_type": "stream",
     "text": [
      "2025-07-20 19:13:11,119 - INFO - [MEM: 8508.2MB] - Processed keywords for 1545000/1732752 records\n"
     ]
    },
    {
     "name": "stdout",
     "output_type": "stream",
     "text": [
      "WARNING: Memory usage (8546.0MB) exceeds limit (6144MB)\n",
      "Memory: 8546.0MB -> 8199.1MB (freed: 346.9MB)\n"
     ]
    },
    {
     "name": "stderr",
     "output_type": "stream",
     "text": [
      "2025-07-20 19:13:13,016 - INFO - [MEM: 8508.2MB] - Processed keywords for 1565000/1732752 records\n"
     ]
    },
    {
     "name": "stdout",
     "output_type": "stream",
     "text": [
      "WARNING: Memory usage (7964.6MB) exceeds limit (6144MB)\n",
      "Memory: 7964.6MB -> 7947.5MB (freed: 17.2MB)\n"
     ]
    },
    {
     "name": "stderr",
     "output_type": "stream",
     "text": [
      "2025-07-20 19:13:14,416 - INFO - [MEM: 8508.2MB] - Processed keywords for 1585000/1732752 records\n"
     ]
    },
    {
     "name": "stdout",
     "output_type": "stream",
     "text": [
      "WARNING: Memory usage (7945.8MB) exceeds limit (6144MB)\n",
      "Memory: 7945.8MB -> 7945.8MB (freed: 0.0MB)\n"
     ]
    },
    {
     "name": "stderr",
     "output_type": "stream",
     "text": [
      "2025-07-20 19:13:15,758 - INFO - [MEM: 8508.2MB] - Processed keywords for 1605000/1732752 records\n"
     ]
    },
    {
     "name": "stdout",
     "output_type": "stream",
     "text": [
      "WARNING: Memory usage (7935.2MB) exceeds limit (6144MB)\n",
      "Memory: 7935.2MB -> 7935.2MB (freed: 0.0MB)\n"
     ]
    },
    {
     "name": "stderr",
     "output_type": "stream",
     "text": [
      "2025-07-20 19:13:17,082 - INFO - [MEM: 8508.2MB] - Processed keywords for 1625000/1732752 records\n"
     ]
    },
    {
     "name": "stdout",
     "output_type": "stream",
     "text": [
      "WARNING: Memory usage (7880.0MB) exceeds limit (6144MB)\n",
      "Memory: 7880.0MB -> 7880.0MB (freed: 0.0MB)\n"
     ]
    },
    {
     "name": "stderr",
     "output_type": "stream",
     "text": [
      "2025-07-20 19:13:18,403 - INFO - [MEM: 8508.2MB] - Processed keywords for 1645000/1732752 records\n"
     ]
    },
    {
     "name": "stdout",
     "output_type": "stream",
     "text": [
      "WARNING: Memory usage (7857.6MB) exceeds limit (6144MB)\n",
      "Memory: 7857.6MB -> 7822.1MB (freed: 35.5MB)\n"
     ]
    },
    {
     "name": "stderr",
     "output_type": "stream",
     "text": [
      "2025-07-20 19:13:19,948 - INFO - [MEM: 8508.2MB] - Processed keywords for 1665000/1732752 records\n"
     ]
    },
    {
     "name": "stdout",
     "output_type": "stream",
     "text": [
      "WARNING: Memory usage (7643.5MB) exceeds limit (6144MB)\n",
      "Memory: 7643.5MB -> 7639.6MB (freed: 3.9MB)\n"
     ]
    },
    {
     "name": "stderr",
     "output_type": "stream",
     "text": [
      "2025-07-20 19:13:22,096 - INFO - [MEM: 8508.2MB] - Processed keywords for 1685000/1732752 records\n"
     ]
    },
    {
     "name": "stdout",
     "output_type": "stream",
     "text": [
      "WARNING: Memory usage (7603.5MB) exceeds limit (6144MB)\n",
      "Memory: 7603.5MB -> 7603.5MB (freed: 0.0MB)\n"
     ]
    },
    {
     "name": "stderr",
     "output_type": "stream",
     "text": [
      "2025-07-20 19:13:23,567 - INFO - [MEM: 8508.2MB] - Processed keywords for 1705000/1732752 records\n"
     ]
    },
    {
     "name": "stdout",
     "output_type": "stream",
     "text": [
      "WARNING: Memory usage (7607.4MB) exceeds limit (6144MB)\n",
      "Memory: 7607.4MB -> 7607.4MB (freed: 0.0MB)\n"
     ]
    },
    {
     "name": "stderr",
     "output_type": "stream",
     "text": [
      "2025-07-20 19:13:24,810 - INFO - [MEM: 8508.2MB] - Processed keywords for 1725000/1732752 records\n"
     ]
    },
    {
     "name": "stdout",
     "output_type": "stream",
     "text": [
      "WARNING: Memory usage (7616.1MB) exceeds limit (6144MB)\n",
      "Memory: 7616.1MB -> 7616.1MB (freed: 0.0MB)\n"
     ]
    },
    {
     "name": "stderr",
     "output_type": "stream",
     "text": [
      "2025-07-20 19:13:25,735 - INFO - [MEM: 8508.2MB] - Keywords processing completed\n"
     ]
    },
    {
     "name": "stdout",
     "output_type": "stream",
     "text": [
      "Memory: 7619.3MB -> 7619.3MB (freed: 0.0MB)\n"
     ]
    },
    {
     "name": "stderr",
     "output_type": "stream",
     "text": [
      "2025-07-20 19:13:27,608 - INFO - [MEM: 8508.2MB] - Cleaned text column: title\n",
      "2025-07-20 19:13:32,317 - INFO - [MEM: 8508.2MB] - Cleaned text column: abstract\n",
      "2025-07-20 19:13:33,870 - INFO - [MEM: 8508.2MB] - Cleaned text column: venue\n",
      "2025-07-20 19:13:34,807 - INFO - [MEM: 8508.2MB] - Cleaned text column: doc_type\n",
      "2025-07-20 19:13:34,807 - INFO - [MEM: 8508.2MB] - Processing references...\n",
      "2025-07-20 19:14:06,889 - INFO - [MEM: 8508.2MB] - References processed\n",
      "2025-07-20 19:14:06,903 - INFO - [MEM: 8508.2MB] - Data cleaning completed. Shape: (1732752, 18)\n",
      "2025-07-20 19:14:06,904 - INFO - [MEM: 8508.2MB] - Memory usage: 8508.2MB -> 5753.4MB\n"
     ]
    },
    {
     "name": "stdout",
     "output_type": "stream",
     "text": [
      "Data cleaning completed. Final shape: (1732752, 18)\n",
      "Memory usage after cleaning: 5753.6MB\n",
      "Cleaned data saved to: data/dblp_cleaned.parquet\n",
      "Memory: 6295.8MB -> 7430.1MB (freed: -1134.3MB)\n"
     ]
    }
   ],
   "source": [
    "\n",
    "# ============================================================================\n",
    "# BLOCK 4: Memory-Efficient Data Cleaning\n",
    "# ============================================================================\n",
    "\n",
    "import ast\n",
    "import re\n",
    "from typing import List, Union\n",
    "\n",
    "import re\n",
    "\n",
    "def robust_keyword_parser(keyword_input: Union[str, list, None]) -> List[str]:\n",
    "    \"\"\"Robustly parse keywords with memory efficiency and escape issues fixed\"\"\"\n",
    "    if pd.isna(keyword_input) or keyword_input in ['[]', '{}', 'None', 'none', 'null', '']:\n",
    "        return []\n",
    "    \n",
    "    if isinstance(keyword_input, list):\n",
    "        return clean_keyword_list(keyword_input)\n",
    "    \n",
    "    keyword_str = str(keyword_input).strip()\n",
    "\n",
    "    # Escape invalid backslashes to avoid SyntaxWarnings\n",
    "    keyword_str = re.sub(r'\\\\(?![nrt\\\\\"])', r'\\\\\\\\', keyword_str)\n",
    "\n",
    "    # Try parsing as literal\n",
    "    if keyword_str.startswith('[') and keyword_str.endswith(']'):\n",
    "        try:\n",
    "            parsed = ast.literal_eval(keyword_str)\n",
    "            if isinstance(parsed, list):\n",
    "                return clean_keyword_list(parsed)\n",
    "        except (ValueError, SyntaxError):\n",
    "            pass\n",
    "\n",
    "    # Fallback to comma separation\n",
    "    if ',' in keyword_str:\n",
    "        keywords = [kw.strip() for kw in keyword_str.split(',')]\n",
    "        return clean_keyword_list(keywords)\n",
    "    \n",
    "    # Space separation as last resort\n",
    "    keywords = keyword_str.split()\n",
    "    return clean_keyword_list(keywords)\n",
    "\n",
    "\n",
    "def clean_keyword_list(keyword_list: List[Union[str, int, float]]) -> List[str]:\n",
    "    \"\"\"Clean individual keywords in a list\"\"\"\n",
    "    cleaned = []\n",
    "    blacklist = {'', 'none', 'null', 'na', 'n/a', 'keyword', 'keywords', 'none type'}\n",
    "    \n",
    "    for kw in keyword_list:\n",
    "        if pd.isna(kw):\n",
    "            continue\n",
    "            \n",
    "        kw_str = str(kw).strip().lower()\n",
    "        kw_str = re.sub(r'[^\\w\\s\\-]', '', kw_str)  # Escaped hyphen\n",
    "\n",
    "        \n",
    "        if (len(kw_str) > 1 and \n",
    "            not kw_str.isnumeric() and \n",
    "            kw_str not in blacklist):\n",
    "            cleaned.append(kw_str)\n",
    "    \n",
    "    return list(set(cleaned))\n",
    "\n",
    "def clean_data_efficiently(df: pd.DataFrame) -> pd.DataFrame:\n",
    "    \"\"\"Clean data with memory optimization\"\"\"\n",
    "    logger = setup_logging(\"data_cleaning\")\n",
    "    logger.info(f\"Starting data cleaning on {len(df)} records\")\n",
    "    \n",
    "    initial_memory = get_memory_usage()\n",
    "    \n",
    "    try:\n",
    "        # Drop unnecessary columns\n",
    "        columns_to_drop = ['authors']\n",
    "        existing_cols_to_drop = [col for col in columns_to_drop if col in df.columns]\n",
    "        if existing_cols_to_drop:\n",
    "            df = df.drop(columns=existing_cols_to_drop)\n",
    "            logger.info(f\"Dropped columns: {existing_cols_to_drop}\")\n",
    "            force_garbage_collection()\n",
    "        \n",
    "        # Handle target variable (n_citation)\n",
    "        if 'n_citation' in df.columns:\n",
    "            initial_len = len(df)\n",
    "            df['n_citation'] = pd.to_numeric(df['n_citation'], errors='coerce')\n",
    "            df = df.dropna(subset=['n_citation'])\n",
    "            df['n_citation'] = df['n_citation'].astype(CONFIG['DTYPE_OPTIMIZATIONS']['n_citation'])\n",
    "            logger.info(f\"Removed {initial_len - len(df)} rows with missing citations\")\n",
    "        \n",
    "        # Handle year\n",
    "        if 'year' in df.columns:\n",
    "            df['year'] = pd.to_numeric(df['year'], errors='coerce')\n",
    "            mode_year = int(df['year'].mode()[0]) if not df['year'].mode().empty else 2000\n",
    "            df['year'] = df['year'].fillna(mode_year).astype(CONFIG['DTYPE_OPTIMIZATIONS']['year'])\n",
    "            logger.info(f\"Filled missing years with mode: {mode_year}\")\n",
    "        \n",
    "        # Process keywords in chunks to manage memory\n",
    "        if 'keywords' in df.columns:\n",
    "            logger.info(\"Processing keywords...\")\n",
    "            chunk_size = 5000\n",
    "\n",
    "            for i in range(0, len(df), chunk_size):\n",
    "                chunk_end = min(i + chunk_size, len(df))\n",
    "                df.loc[df.index[i:chunk_end], 'keywords'] = df['keywords'].iloc[i:chunk_end].apply(robust_keyword_parser)\n",
    "\n",
    "                if i % 20000 == 0:  # Progress update every 20k records\n",
    "                    logger.info(f\"Processed keywords for {chunk_end}/{len(df)} records\")\n",
    "                    check_memory_limit(CONFIG['MAX_MEMORY_MB'])\n",
    "\n",
    "            logger.info(\"Keywords processing completed\")\n",
    "            force_garbage_collection()\n",
    "\n",
    "        \n",
    "        # Clean text fields efficiently\n",
    "        text_cols = ['title', 'abstract', 'venue', 'doc_type']\n",
    "        for col in text_cols:\n",
    "            if col in df.columns:\n",
    "                df[col] = df[col].fillna(\"\").astype(str).str.strip().str.lower()\n",
    "                df[col] = df[col].replace({'none': '', 'null': '', 'nan': ''})\n",
    "                logger.info(f\"Cleaned text column: {col}\")\n",
    "        \n",
    "        # Handle references\n",
    "        if 'references' in df.columns:\n",
    "            logger.info(\"Processing references...\")\n",
    "            def safe_reference_parser(ref):\n",
    "                if isinstance(ref, list):\n",
    "                    return ref\n",
    "                try:\n",
    "                    if isinstance(ref, str) and ref.startswith('['):\n",
    "                        return ast.literal_eval(ref)\n",
    "                except Exception:\n",
    "                    return []\n",
    "                return []\n",
    "            df['references'] = df['references'].apply(safe_reference_parser)\n",
    "            logger.info(\"References processed\")\n",
    "        \n",
    "        # Memory optimization - convert to optimal dtypes\n",
    "        for col, dtype in CONFIG['DTYPE_OPTIMIZATIONS'].items():\n",
    "            if col in df.columns:\n",
    "                df[col] = df[col].astype(dtype)\n",
    "        \n",
    "        logger.info(f\"Data cleaning completed. Shape: {df.shape}\")\n",
    "        logger.info(f\"Memory usage: {initial_memory:.1f}MB -> {get_memory_usage():.1f}MB\")\n",
    "        \n",
    "        return df\n",
    "        \n",
    "    except Exception as e:\n",
    "        logger.error(f\"Error during data cleaning: {e}\", exc_info=True)\n",
    "        raise\n",
    "\n",
    "# Clean data\n",
    "print(\"\\n\" + \"=\"*50)\n",
    "print(\"DATA CLEANING\")\n",
    "print(\"=\"*50)\n",
    "\n",
    "df_clean = clean_data_efficiently(df)\n",
    "print(f\"Data cleaning completed. Final shape: {df_clean.shape}\")\n",
    "print(f\"Memory usage after cleaning: {get_memory_usage():.1f}MB\")\n",
    "\n",
    "# Save cleaned data\n",
    "cleaned_path = CONFIG['DATA_DIR'] / CONFIG['CLEANED_PARQUET_FILE']\n",
    "df_clean.to_parquet(cleaned_path, index=False)\n",
    "print(f\"Cleaned data saved to: {cleaned_path}\")\n",
    "\n",
    "# Free memory\n",
    "del df\n",
    "force_garbage_collection()\n"
   ]
  },
  {
   "cell_type": "code",
   "execution_count": 27,
   "id": "52c60c78",
   "metadata": {},
   "outputs": [
    {
     "name": "stderr",
     "output_type": "stream",
     "text": [
      "2025-07-20 19:14:34,679 - INFO - [MEM: 7431.6MB] - Creating numerical features\n"
     ]
    },
    {
     "name": "stdout",
     "output_type": "stream",
     "text": [
      "\n",
      "==================================================\n",
      "CREATING NUMERICAL FEATURES\n",
      "==================================================\n"
     ]
    },
    {
     "name": "stderr",
     "output_type": "stream",
     "text": [
      "2025-07-20 19:14:35,105 - INFO - [MEM: 7431.6MB] - Created title_length feature\n",
      "2025-07-20 19:14:36,253 - INFO - [MEM: 7431.6MB] - Created abstract_length feature\n",
      "2025-07-20 19:14:37,126 - INFO - [MEM: 7431.6MB] - Created num_keywords feature\n",
      "2025-07-20 19:14:37,142 - INFO - [MEM: 7431.6MB] - Created age feature\n",
      "2025-07-20 19:14:37,776 - INFO - [MEM: 7431.6MB] - Created num_references feature\n",
      "2025-07-20 19:14:38,020 - INFO - [MEM: 7431.6MB] - All numerical features created successfully\n"
     ]
    },
    {
     "name": "stdout",
     "output_type": "stream",
     "text": [
      "Numerical features created. Memory usage: 9296.4MB\n",
      "\n",
      "Numerical feature statistics:\n",
      "title_length: mean=70.25, std=27.32, max=900.0\n",
      "abstract_length: mean=708.48, std=572.34, max=72632.0\n",
      "num_keywords: mean=8.87, std=7.88, max=141.0\n",
      "age: mean=20.46, std=10.15, max=2025.0\n",
      "num_references: mean=7.44, std=10.37, max=1930.0\n",
      "has_doi: mean=0.82, std=0.38, max=1.0\n",
      "has_url: mean=1.00, std=0.06, max=1.0\n"
     ]
    }
   ],
   "source": [
    "\n",
    "\n",
    "# ============================================================================\n",
    "# BLOCK 5: Memory-Efficient Feature Engineering - Numerical Features\n",
    "# ============================================================================\n",
    "\n",
    "def create_numerical_features(df: pd.DataFrame) -> pd.DataFrame:\n",
    "    \"\"\"Create numerical features efficiently\"\"\"\n",
    "    logger = setup_logging(\"numerical_features\")\n",
    "    logger.info(\"Creating numerical features\")\n",
    "    \n",
    "    try:\n",
    "        # Title length\n",
    "        if 'title' in df.columns:\n",
    "            df['title_length'] = df['title'].astype(str).str.len().astype(CONFIG['DTYPE_OPTIMIZATIONS']['title_length'])\n",
    "            logger.info(\"Created title_length feature\")\n",
    "        else:\n",
    "            df['title_length'] = 0\n",
    "            logger.warning(\"Title column not found, defaulting title_length to 0\")\n",
    "        \n",
    "        # Abstract length\n",
    "        if 'abstract' in df.columns:\n",
    "            df['abstract_length'] = df['abstract'].astype(str).str.len().astype(CONFIG['DTYPE_OPTIMIZATIONS']['abstract_length'])\n",
    "            logger.info(\"Created abstract_length feature\")\n",
    "        else:\n",
    "            df['abstract_length'] = 0\n",
    "            logger.warning(\"Abstract column not found, defaulting abstract_length to 0\")\n",
    "        \n",
    "        # Number of keywords\n",
    "        if 'keywords' in df.columns:\n",
    "            df['num_keywords'] = df['keywords'].apply(len).astype(CONFIG['DTYPE_OPTIMIZATIONS']['num_keywords'])\n",
    "            logger.info(\"Created num_keywords feature\")\n",
    "        else:\n",
    "            df['num_keywords'] = 0\n",
    "            logger.warning(\"Keywords column not found, defaulting num_keywords to 0\")\n",
    "        \n",
    "        # Age of publication\n",
    "        if 'year' in df.columns:\n",
    "            current_year = pd.Timestamp.now().year\n",
    "            df['age'] = (current_year - df['year']).clip(lower=0).astype(CONFIG['DTYPE_OPTIMIZATIONS']['age'])\n",
    "            logger.info(\"Created age feature\")\n",
    "        else:\n",
    "            df['age'] = 0\n",
    "            logger.warning(\"Year column not found, defaulting age to 0\")\n",
    "        \n",
    "        # Number of references\n",
    "        if 'references' in df.columns:\n",
    "            df['num_references'] = df['references'].apply(len).astype(CONFIG['DTYPE_OPTIMIZATIONS']['num_references'])\n",
    "            logger.info(\"Created num_references feature\")\n",
    "        else:\n",
    "            df['num_references'] = 0\n",
    "            logger.warning(\"References column not found, defaulting num_references to 0\")\n",
    "        \n",
    "        # Boolean features\n",
    "        df['has_doi'] = df['doi'].notna().astype(CONFIG['DTYPE_OPTIMIZATIONS']['has_doi']) if 'doi' in df.columns else 0\n",
    "        df['has_url'] = df['url'].notna().astype(CONFIG['DTYPE_OPTIMIZATIONS']['has_url']) if 'url' in df.columns else 0\n",
    "        \n",
    "        logger.info(\"All numerical features created successfully\")\n",
    "        return df\n",
    "        \n",
    "    except Exception as e:\n",
    "        logger.error(f\"Error creating numerical features: {e}\", exc_info=True)\n",
    "        raise\n",
    "\n",
    "# Create numerical features\n",
    "print(\"\\n\" + \"=\"*50)\n",
    "print(\"CREATING NUMERICAL FEATURES\")\n",
    "print(\"=\"*50)\n",
    "\n",
    "df_features = create_numerical_features(df_clean)\n",
    "print(f\"Numerical features created. Memory usage: {get_memory_usage():.1f}MB\")\n",
    "\n",
    "# Verify numerical features\n",
    "print(\"\\nNumerical feature statistics:\")\n",
    "for col in NUMERICAL_FEATURES_COLS:\n",
    "    if col in df_features.columns:\n",
    "        stats = df_features[col].describe()\n",
    "        print(f\"{col}: mean={stats['mean']:.2f}, std={stats['std']:.2f}, max={stats['max']}\")"
   ]
  },
  {
   "cell_type": "code",
   "execution_count": 28,
   "id": "4a2e76dd",
   "metadata": {},
   "outputs": [
    {
     "name": "stderr",
     "output_type": "stream",
     "text": [
      "2025-07-20 19:14:38,257 - INFO - [MEM: 9309.0MB] - Starting TF-IDF feature creation\n",
      "2025-07-20 19:14:38,258 - INFO - [MEM: 9309.0MB] - Processing TF-IDF for title...\n"
     ]
    },
    {
     "name": "stdout",
     "output_type": "stream",
     "text": [
      "\n",
      "==================================================\n",
      "CREATING TF-IDF FEATURES\n",
      "==================================================\n"
     ]
    },
    {
     "name": "stderr",
     "output_type": "stream",
     "text": [
      "2025-07-20 19:15:11,520 - INFO - [MEM: 9309.0MB] - title TF-IDF shape: (1732752, 5000), sparsity: 0.9987\n",
      "2025-07-20 19:15:11,522 - INFO - [MEM: 9309.0MB] - Processing TF-IDF for abstract...\n",
      "2025-07-20 19:21:29,579 - INFO - [MEM: 9309.0MB] - abstract TF-IDF shape: (1732752, 5000), sparsity: 0.9917\n",
      "2025-07-20 19:21:29,582 - INFO - [MEM: 9309.0MB] - Processing TF-IDF for keywords...\n",
      "2025-07-20 19:22:00,748 - INFO - [MEM: 9309.0MB] - keywords TF-IDF shape: (1732752, 2500), sparsity: 0.9953\n",
      "2025-07-20 19:22:00,752 - INFO - [MEM: 9309.0MB] - Combining sparse features...\n",
      "2025-07-20 19:22:03,424 - INFO - [MEM: 9309.0MB] - Combined TF-IDF features shape: (1732752, 12500)\n"
     ]
    },
    {
     "name": "stdout",
     "output_type": "stream",
     "text": [
      "TF-IDF features created. Shape: (1732752, 12500)\n",
      "Memory usage: 2208.8MB\n",
      "Saving TF-IDF features and vectorizers...\n",
      "TF-IDF features saved to: data/tfidf_combined_sparse_features.npz\n",
      "Vectorizers saved to: data/tfidf_vectorizers.pkl\n"
     ]
    }
   ],
   "source": [
    "\n",
    "\n",
    "# ============================================================================\n",
    "# BLOCK 6: Memory-Efficient TF-IDF Feature Engineering\n",
    "# ============================================================================\n",
    "\n",
    "from sklearn.feature_extraction.text import TfidfVectorizer\n",
    "from scipy.sparse import hstack, coo_matrix, save_npz, csr_matrix\n",
    "import joblib\n",
    "\n",
    "def create_tfidf_features_efficiently(df: pd.DataFrame) -> tuple:\n",
    "    \"\"\"Create TF-IDF features with memory optimization\"\"\"\n",
    "    logger = setup_logging(\"tfidf_features\")\n",
    "    logger.info(\"Starting TF-IDF feature creation\")\n",
    "    \n",
    "    vectorizers = {}\n",
    "    sparse_features = []\n",
    "    \n",
    "    try:\n",
    "        # Process each text field separately to manage memory\n",
    "        text_fields = ['title', 'abstract', 'keywords']\n",
    "        \n",
    "        for field in text_fields:\n",
    "            logger.info(f\"Processing TF-IDF for {field}...\")\n",
    "            \n",
    "            if field not in df.columns:\n",
    "                logger.warning(f\"{field} column not found, skipping\")\n",
    "                sparse_features.append(coo_matrix((len(df), 0), dtype=np.float32))\n",
    "                continue\n",
    "            \n",
    "            try:\n",
    "                # Prepare text data\n",
    "                if field == 'keywords':\n",
    "                    text_data = df[field].apply(\n",
    "                        lambda x: ' '.join(x) if isinstance(x, list) else str(x)\n",
    "                    ).fillna('')\n",
    "                else:\n",
    "                    text_data = df[field].astype(str).fillna('')\n",
    "                \n",
    "                # Check for empty documents\n",
    "                non_empty_mask = text_data.str.strip().astype(bool)\n",
    "                non_empty_count = non_empty_mask.sum()\n",
    "                \n",
    "                if non_empty_count == 0:\n",
    "                    logger.warning(f\"All {field} documents are empty\")\n",
    "                    sparse_features.append(coo_matrix((len(df), 0), dtype=np.float32))\n",
    "                    continue\n",
    "                \n",
    "                # Configure vectorizer based on field\n",
    "                if field == 'keywords':\n",
    "                    vectorizer = TfidfVectorizer(\n",
    "                        max_features=CONFIG['TFIDF_MAX_FEATURES'] // 2,  # Smaller for keywords\n",
    "                        min_df=CONFIG['TFIDF_MIN_DF_KEYWORDS'],\n",
    "                        ngram_range=(1, 1),  # Only unigrams for keywords\n",
    "                        stop_words=None,\n",
    "                        token_pattern=r'\\S+',\n",
    "                        dtype=np.float32  # Use float32 to save memory\n",
    "                    )\n",
    "                else:\n",
    "                    vectorizer = TfidfVectorizer(\n",
    "                        max_features=CONFIG['TFIDF_MAX_FEATURES'],\n",
    "                        min_df=CONFIG['TFIDF_MIN_DF_TITLE_ABSTRACT'],\n",
    "                        ngram_range=CONFIG['TFIDF_NGRAM_RANGE'],\n",
    "                        stop_words='english',\n",
    "                        dtype=np.float32\n",
    "                    )\n",
    "                \n",
    "                # Fit and transform\n",
    "                tfidf_matrix = vectorizer.fit_transform(text_data)\n",
    "                \n",
    "                # Convert to CSR for efficiency\n",
    "                if not isinstance(tfidf_matrix, csr_matrix):\n",
    "                    tfidf_matrix = tfidf_matrix.tocsr()\n",
    "                \n",
    "                sparse_features.append(tfidf_matrix)\n",
    "                vectorizers[field] = vectorizer\n",
    "                \n",
    "                logger.info(f\"{field} TF-IDF shape: {tfidf_matrix.shape}, \"\n",
    "                           f\"sparsity: {1 - tfidf_matrix.nnz / (tfidf_matrix.shape[0] * tfidf_matrix.shape[1]):.4f}\")\n",
    "                \n",
    "                # Clean up temporary variables\n",
    "                del text_data, tfidf_matrix\n",
    "                check_memory_limit(CONFIG['MAX_MEMORY_MB'])\n",
    "                \n",
    "            except Exception as e:\n",
    "                logger.error(f\"Error processing {field}: {e}\")\n",
    "                sparse_features.append(coo_matrix((len(df), 0), dtype=np.float32))\n",
    "        \n",
    "        # Combine sparse features efficiently\n",
    "        logger.info(\"Combining sparse features...\")\n",
    "        if sparse_features:\n",
    "            combined_features = hstack(sparse_features, format='csr', dtype=np.float32)\n",
    "            logger.info(f\"Combined TF-IDF features shape: {combined_features.shape}\")\n",
    "        else:\n",
    "            combined_features = coo_matrix((len(df), 0), dtype=np.float32)\n",
    "            logger.warning(\"No TF-IDF features generated\")\n",
    "        \n",
    "        return combined_features, vectorizers\n",
    "        \n",
    "    except Exception as e:\n",
    "        logger.error(f\"Error in TF-IDF feature creation: {e}\", exc_info=True)\n",
    "        raise\n",
    "\n",
    "# Create TF-IDF features\n",
    "print(\"\\n\" + \"=\"*50)\n",
    "print(\"CREATING TF-IDF FEATURES\")\n",
    "print(\"=\"*50)\n",
    "\n",
    "combined_tfidf, vectorizers = create_tfidf_features_efficiently(df_features)\n",
    "print(f\"TF-IDF features created. Shape: {combined_tfidf.shape}\")\n",
    "print(f\"Memory usage: {get_memory_usage():.1f}MB\")\n",
    "\n",
    "# Save TF-IDF features and vectorizers\n",
    "print(\"Saving TF-IDF features and vectorizers...\")\n",
    "# We don't need to save the combined features, just the vectorizers for the app\n",
    "# save_npz(CONFIG['TFIDF_COMBINED_FEATURES_PATH'], combined_tfidf)\n",
    "joblib.dump(vectorizers, CONFIG['VECTORIZERS_PATH'])\n",
    "print(f\"Vectorizers saved to: {CONFIG['VECTORIZERS_PATH']}\")"
   ]
  },
  {
   "cell_type": "code",
   "execution_count": 29,
   "id": "028616a7",
   "metadata": {},
   "outputs": [
    {
     "name": "stderr",
     "output_type": "stream",
     "text": [
      "2025-07-20 19:23:04,069 - INFO - [MEM: 3196.0MB] - Finalizing dataset\n",
      "2025-07-20 19:23:04,129 - INFO - [MEM: 3196.0MB] - Performing final data quality checks...\n"
     ]
    },
    {
     "name": "stdout",
     "output_type": "stream",
     "text": [
      "\n",
      "==================================================\n",
      "FINALIZING DATASET\n",
      "==================================================\n"
     ]
    },
    {
     "name": "stderr",
     "output_type": "stream",
     "text": [
      "2025-07-20 19:23:22,816 - INFO - [MEM: 3196.0MB] - Converted lang to category dtype\n",
      "2025-07-20 19:23:23,243 - INFO - [MEM: 3196.0MB] - Converted venue to category dtype\n",
      "2025-07-20 19:23:30,402 - INFO - [MEM: 3196.0MB] - Converted doc_type to category dtype\n",
      "2025-07-20 19:23:38,023 - INFO - [MEM: 3196.0MB] - Memory optimization: 3579.9MB -> 3272.6MB\n",
      "2025-07-20 19:23:38,024 - INFO - [MEM: 3196.0MB] - Final dataset shape: (1732752, 25)\n",
      "2025-07-20 19:23:38,030 - INFO - [MEM: 3196.0MB] - Target variable (n_citation) range: 0 - 121860\n",
      "2025-07-20 19:23:38,030 - INFO - [MEM: 3196.0MB] - Available features: ['id', 'title', 'doi', 'issue', 'keywords', 'lang', 'venue', 'year', 'n_citation', 'page_start', 'page_end', 'volume', 'issn', 'isbn', 'url', 'abstract', 'doc_type', 'references', 'title_length', 'abstract_length', 'num_keywords', 'age', 'num_references', 'has_doi', 'has_url']\n"
     ]
    },
    {
     "name": "stdout",
     "output_type": "stream",
     "text": [
      "Dataset finalized. Shape: (1732752, 25)\n",
      "Memory usage: 4993.6MB\n",
      "Final processed dataset saved to: data/dblp_final_processed.parquet\n",
      "Numerical features summary saved to: data/numerical_features_summary.csv\n"
     ]
    }
   ],
   "source": [
    "\n",
    "\n",
    "# ============================================================================\n",
    "# BLOCK 7: Final Data Preparation and Saving\n",
    "# ============================================================================\n",
    "\n",
    "def finalize_dataset(df: pd.DataFrame) -> pd.DataFrame:\n",
    "    \"\"\"Final dataset preparation with memory optimization\"\"\"\n",
    "    logger = setup_logging(\"finalize_dataset\")\n",
    "    logger.info(\"Finalizing dataset\")\n",
    "    \n",
    "    try:\n",
    "        # Ensure all numerical features exist with correct dtypes\n",
    "        for col in NUMERICAL_FEATURES_COLS:\n",
    "            if col in df.columns:\n",
    "                if col in CONFIG['DTYPE_OPTIMIZATIONS']:\n",
    "                    df[col] = pd.to_numeric(df[col], errors='coerce').fillna(0)\n",
    "                    df[col] = df[col].astype(CONFIG['DTYPE_OPTIMIZATIONS'][col])\n",
    "            else:\n",
    "                # Add missing feature with default value\n",
    "                default_dtype = CONFIG['DTYPE_OPTIMIZATIONS'].get(col, 'float32')\n",
    "                df[col] = pd.Series(0, index=df.index, dtype=default_dtype)\n",
    "                logger.warning(f\"Added missing feature {col} with default value 0\")\n",
    "        \n",
    "        # Final data quality checks\n",
    "        logger.info(\"Performing final data quality checks...\")\n",
    "        \n",
    "        # Check for infinite values\n",
    "        numeric_cols = df.select_dtypes(include=[np.number]).columns\n",
    "        inf_counts = {}\n",
    "        for col in numeric_cols:\n",
    "            inf_count = np.isinf(df[col]).sum()\n",
    "            if inf_count > 0:\n",
    "                df[col] = df[col].replace([np.inf, -np.inf], np.nan)\n",
    "                df[col] = df[col].fillna(df[col].median())\n",
    "                inf_counts[col] = inf_count\n",
    "        \n",
    "        if inf_counts:\n",
    "            logger.warning(f\"Replaced infinite values in columns: {inf_counts}\")\n",
    "        \n",
    "        # Final memory optimization\n",
    "        memory_before = df.memory_usage(deep=True).sum() / 1024**2\n",
    "        \n",
    "        # Optimize string columns\n",
    "        string_cols = df.select_dtypes(include=['object']).columns\n",
    "        for col in string_cols:\n",
    "\n",
    "        # Optimize string columns\n",
    "            string_cols = df.select_dtypes(include=['object']).columns\n",
    "            for col in string_cols:\n",
    "                if col in ['title', 'abstract', 'venue', 'doc_type', 'lang']:\n",
    "                    unique_ratio = df[col].nunique() / len(df)\n",
    "                    if unique_ratio < 0.1:  # Less than 10% unique values\n",
    "                        df[col] = df[col].astype('category')\n",
    "                        logger.info(f\"Converted {col} to category dtype\")\n",
    "            \n",
    "            memory_after = df.memory_usage(deep=True).sum() / 1024**2\n",
    "            logger.info(f\"Memory optimization: {memory_before:.1f}MB -> {memory_after:.1f}MB\")\n",
    "            \n",
    "            # Final dataset summary\n",
    "            logger.info(f\"Final dataset shape: {df.shape}\")\n",
    "            logger.info(f\"Target variable (n_citation) range: {df['n_citation'].min()} - {df['n_citation'].max()}\")\n",
    "            logger.info(f\"Available features: {list(df.columns)}\")\n",
    "            \n",
    "            return df\n",
    "        \n",
    "    except Exception as e:\n",
    "        logger.error(f\"Error finalizing dataset: {e}\", exc_info=True)\n",
    "        raise\n",
    "\n",
    "# Finalize the dataset\n",
    "print(\"\\n\" + \"=\"*50)\n",
    "print(\"FINALIZING DATASET\")\n",
    "print(\"=\"*50)\n",
    "\n",
    "df_final = finalize_dataset(df_features)\n",
    "print(f\"Dataset finalized. Shape: {df_final.shape}\")\n",
    "print(f\"Memory usage: {get_memory_usage():.1f}MB\")\n",
    "\n",
    "# Save the final processed dataset\n",
    "final_processed_path = CONFIG['DATA_DIR'] / 'dblp_final_processed.parquet'\n",
    "df_final.to_parquet(final_processed_path, index=False)\n",
    "print(f\"Final processed dataset saved to: {final_processed_path}\")\n",
    "\n",
    "# Create a summary of numerical features for later use\n",
    "numerical_summary = df_final[NUMERICAL_FEATURES_COLS].describe()\n",
    "summary_path = CONFIG['DATA_DIR'] / 'numerical_features_summary.csv'\n",
    "numerical_summary.to_csv(summary_path)\n",
    "print(f\"Numerical features summary saved to: {summary_path}\")"
   ]
  },
  {
   "cell_type": "code",
   "execution_count": 30,
   "id": "916e34dc",
   "metadata": {},
   "outputs": [
    {
     "name": "stderr",
     "output_type": "stream",
     "text": [
      "2025-07-20 19:24:00,274 - INFO - [MEM: 1423.7MB] - Creating train-test split with test_size=0.2\n",
      "2025-07-20 19:24:00,293 - INFO - [MEM: 1423.7MB] - Target (log1p) statistics: min=0.0, max=11.710636329907006, mean=2.20\n",
      "2025-07-20 19:24:00,333 - INFO - [MEM: 1423.7MB] - Numerical features shape: (1732752, 7)\n",
      "2025-07-20 19:24:00,334 - INFO - [MEM: 1423.7MB] - Loading TF-IDF features...\n"
     ]
    },
    {
     "name": "stdout",
     "output_type": "stream",
     "text": [
      "\n",
      "==================================================\n",
      "CREATING TRAIN-TEST SPLIT\n",
      "==================================================\n"
     ]
    },
    {
     "name": "stderr",
     "output_type": "stream",
     "text": [
      "2025-07-20 19:24:04,813 - INFO - [MEM: 1423.7MB] - TF-IDF features shape: (1732752, 12500)\n",
      "2025-07-20 19:24:04,813 - INFO - [MEM: 1423.7MB] - Combining numerical and TF-IDF features...\n",
      "2025-07-20 19:24:08,043 - INFO - [MEM: 1423.7MB] - Combined features shape: (1732752, 12507)\n",
      "2025-07-20 19:24:08,044 - INFO - [MEM: 1423.7MB] - Combined features sparsity: 0.9947\n",
      "2025-07-20 19:24:09,497 - INFO - [MEM: 1423.7MB] - Train set shape: X=(1386201, 12507), y=(1386201,)\n",
      "2025-07-20 19:24:09,497 - INFO - [MEM: 1423.7MB] - Test set shape: X=(346551, 12507), y=(346551,)\n",
      "2025-07-20 19:24:09,498 - INFO - [MEM: 1423.7MB] - Train target range: 0.0-11.710636329907006\n",
      "2025-07-20 19:24:09,499 - INFO - [MEM: 1423.7MB] - Test target range: 0.0-11.233317376674892\n"
     ]
    },
    {
     "name": "stdout",
     "output_type": "stream",
     "text": [
      "Train-test split completed. Memory usage: 1441.0MB\n",
      "Split indices saved to: data/train_test_indices.pkl\n"
     ]
    }
   ],
   "source": [
    "\n",
    "\n",
    "# ============================================================================\n",
    "# BLOCK 8: Memory-Efficient Train-Test Split\n",
    "# ============================================================================\n",
    "\n",
    "from sklearn.model_selection import train_test_split\n",
    "from scipy.sparse import load_npz\n",
    "\n",
    "def create_train_test_split_efficiently(df: pd.DataFrame, test_size: float = 0.2) -> tuple:\n",
    "    \"\"\"Create train-test split with memory efficiency\"\"\"\n",
    "    logger = setup_logging(\"train_test_split\")\n",
    "    logger.info(f\"Creating train-test split with test_size={test_size}\")\n",
    "    \n",
    "    try:\n",
    "        # Prepare target variable\n",
    "        # Prepare target variable with log1p transform (for better regression)\n",
    "        y = np.log1p(df['n_citation'].values)\n",
    "        logger.info(f\"Target (log1p) statistics: min={y.min()}, max={y.max()}, mean={y.mean():.2f}\")\n",
    "\n",
    "        \n",
    "        # Prepare numerical features\n",
    "        X_numerical = df[NUMERICAL_FEATURES_COLS].values.astype(np.float32)\n",
    "        logger.info(f\"Numerical features shape: {X_numerical.shape}\")\n",
    "        \n",
    "        # Load TF-IDF features\n",
    "        logger.info(\"Loading TF-IDF features...\")\n",
    "        X_tfidf = load_npz(CONFIG['TFIDF_COMBINED_FEATURES_PATH'])\n",
    "        logger.info(f\"TF-IDF features shape: {X_tfidf.shape}\")\n",
    "        \n",
    "        # Combine features\n",
    "        logger.info(\"Combining numerical and TF-IDF features...\")\n",
    "        X_numerical_sparse = csr_matrix(X_numerical, dtype=np.float32)\n",
    "        X_combined = hstack([X_numerical_sparse, X_tfidf], format='csr', dtype=np.float32)\n",
    "        \n",
    "        logger.info(f\"Combined features shape: {X_combined.shape}\")\n",
    "        logger.info(f\"Combined features sparsity: {1 - X_combined.nnz / (X_combined.shape[0] * X_combined.shape[1]):.4f}\")\n",
    "        \n",
    "        # Stratified split for better distribution\n",
    "        # Create stratification bins for continuous target\n",
    "        y_bins = pd.qcut(y, q=min(10, len(np.unique(y))), duplicates='drop', labels=False)\n",
    "        \n",
    "        # Perform split\n",
    "        indices = np.arange(len(y))\n",
    "        train_idx, test_idx = train_test_split(\n",
    "            indices, \n",
    "            test_size=test_size, \n",
    "            stratify=y_bins,\n",
    "            random_state=CONFIG['RANDOM_STATE']\n",
    "        )\n",
    "        \n",
    "        # Create splits\n",
    "        X_train = X_combined[train_idx]\n",
    "        X_test = X_combined[test_idx]\n",
    "        y_train = y[train_idx]\n",
    "        y_test = y[test_idx]\n",
    "        \n",
    "        logger.info(f\"Train set shape: X={X_train.shape}, y={y_train.shape}\")\n",
    "        logger.info(f\"Test set shape: X={X_test.shape}, y={y_test.shape}\")\n",
    "        logger.info(f\"Train target range: {y_train.min()}-{y_train.max()}\")\n",
    "        logger.info(f\"Test target range: {y_test.min()}-{y_test.max()}\")\n",
    "        \n",
    "        return X_train, X_test, y_train, y_test, train_idx, test_idx\n",
    "        \n",
    "    except Exception as e:\n",
    "        logger.error(f\"Error creating train-test split: {e}\", exc_info=True)\n",
    "        raise\n",
    "\n",
    "# Create train-test split\n",
    "print(\"\\n\" + \"=\"*50)\n",
    "print(\"CREATING TRAIN-TEST SPLIT\")\n",
    "print(\"=\"*50)\n",
    "\n",
    "X_train, X_test, y_train, y_test, train_idx, test_idx = create_train_test_split_efficiently(df_final)\n",
    "print(f\"Train-test split completed. Memory usage: {get_memory_usage():.1f}MB\")\n",
    "\n",
    "# Save split indices for reproducibility\n",
    "split_indices = {\n",
    "    'train_idx': train_idx,\n",
    "    'test_idx': test_idx\n",
    "}\n",
    "split_indices_path = CONFIG['DATA_DIR'] / 'train_test_indices.pkl'\n",
    "joblib.dump(split_indices, split_indices_path)\n",
    "print(f\"Split indices saved to: {split_indices_path}\")\n",
    "\n",
    "\n",
    "\n",
    "\n",
    "\n"
   ]
  },
  {
   "cell_type": "code",
   "execution_count": null,
   "id": "d1818bca",
   "metadata": {},
   "outputs": [
    {
     "name": "stdout",
     "output_type": "stream",
     "text": [
      "Fitting 3 folds for each of 30 candidates, totalling 90 fits\n",
      "[LightGBM] [Info] Auto-choosing row-wise multi-threading, the overhead of testing was 496.636675 seconds.\n",
      "You can set `force_row_wise=true` to remove the overhead.\n",
      "And if memory is not enough, you can set `force_col_wise=true`.\n",
      "[LightGBM] [Info] Total Bins 1723184\n",
      "[LightGBM] [Info] Number of data points in the train set: 924134, number of used features: 12507\n",
      "[LightGBM] [Info] Start training from score 1.018116\n",
      "[LightGBM] [Info] Auto-choosing col-wise multi-threading, the overhead of testing was 483.956999 seconds.\n",
      "You can set `force_col_wise=true` to remove the overhead.\n",
      "[LightGBM] [Info] Auto-choosing col-wise multi-threading, the overhead of testing was 484.240664 seconds.\n",
      "You can set `force_col_wise=true` to remove the overhead.\n",
      "[LightGBM] [Info] Total Bins 1725179\n",
      "[LightGBM] [Info] Total Bins 1723184\n",
      "[LightGBM] [Info] Number of data points in the train set: 924134, number of used features: 12507\n",
      "[LightGBM] [Info] Number of data points in the train set: 924134, number of used features: 12507\n",
      "[LightGBM] [Info] Start training from score 1.017837\n",
      "[LightGBM] [Info] Start training from score 1.018116\n",
      "[LightGBM] [Info] Auto-choosing row-wise multi-threading, the overhead of testing was 504.649645 seconds.\n",
      "You can set `force_row_wise=true` to remove the overhead.\n",
      "And if memory is not enough, you can set `force_col_wise=true`.\n",
      "[LightGBM] [Info] Total Bins 1725179\n",
      "[LightGBM] [Info] Number of data points in the train set: 924134, number of used features: 12507\n",
      "[LightGBM] [Info] Start training from score 1.017837\n",
      "[LightGBM] [Info] Auto-choosing col-wise multi-threading, the overhead of testing was 522.244474 seconds.\n",
      "You can set `force_col_wise=true` to remove the overhead.\n",
      "[LightGBM] [Info] Total Bins 1725179\n",
      "[LightGBM] [Info] Number of data points in the train set: 924134, number of used features: 12507\n",
      "[LightGBM] [Info] Start training from score 1.017837\n",
      "[LightGBM] [Info] Auto-choosing col-wise multi-threading, the overhead of testing was 529.534844 seconds.\n",
      "You can set `force_col_wise=true` to remove the overhead.\n",
      "[LightGBM] [Info] Total Bins 1725179\n",
      "[LightGBM] [Info] Number of data points in the train set: 924134, number of used features: 12507\n",
      "[LightGBM] [Info] Auto-choosing col-wise multi-threading, the overhead of testing was 532.924806 seconds.\n",
      "You can set `force_col_wise=true` to remove the overhead.\n",
      "[LightGBM] [Info] Auto-choosing row-wise multi-threading, the overhead of testing was 504.830481 seconds.\n",
      "You can set `force_row_wise=true` to remove the overhead.\n",
      "And if memory is not enough, you can set `force_col_wise=true`.\n",
      "[LightGBM] [Info] Start training from score 1.017837\n",
      "[LightGBM] [Info] Auto-choosing row-wise multi-threading, the overhead of testing was 503.164844 seconds.\n",
      "You can set `force_row_wise=true` to remove the overhead.\n",
      "And if memory is not enough, you can set `force_col_wise=true`.\n",
      "[LightGBM] [Info] Total Bins 1723808\n",
      "[LightGBM] [Info] Total Bins 1723808\n",
      "[LightGBM] [Info] Total Bins 1723808\n",
      "[LightGBM] [Info] Number of data points in the train set: 924134, number of used features: 12507\n",
      "[LightGBM] [Info] Number of data points in the train set: 924134, number of used features: 12507\n",
      "[LightGBM] [Info] Number of data points in the train set: 924134, number of used features: 12507\n",
      "[LightGBM] [Info] Start training from score 1.018085\n",
      "[LightGBM] [Info] Start training from score 1.018085\n",
      "[LightGBM] [Info] Start training from score 1.018085\n",
      "[LightGBM] [Info] Auto-choosing row-wise multi-threading, the overhead of testing was 502.328753 seconds.\n",
      "You can set `force_row_wise=true` to remove the overhead.\n",
      "And if memory is not enough, you can set `force_col_wise=true`.\n",
      "[LightGBM] [Info] Total Bins 1723184\n",
      "[LightGBM] [Info] Number of data points in the train set: 924134, number of used features: 12507\n",
      "[LightGBM] [Info] Start training from score 1.018116\n"
     ]
    }
   ],
   "source": [
    "from lightgbm import LGBMRegressor\n",
    "from sklearn.model_selection import RandomizedSearchCV\n",
    "from sklearn.metrics import mean_squared_error, r2_score\n",
    "from sklearn.metrics import mean_squared_error as mse\n",
    "\n",
    "\n",
    "\n",
    "import numpy as np\n",
    "\n",
    "# Log-transform the target\n",
    "y_train_log = np.log1p(y_train)\n",
    "y_test_log = np.log1p(y_test)\n",
    "\n",
    "# LightGBM hyperparameter grid\n",
    "param_dist = {\n",
    "    'num_leaves': [31, 50, 70],\n",
    "    'max_depth': [-1, 10, 20, 30],\n",
    "    'learning_rate': [0.01, 0.05, 0.1],\n",
    "    'n_estimators': [100, 300, 500, 1000],\n",
    "    'subsample': [0.6, 0.8, 1.0],\n",
    "    'colsample_bytree': [0.6, 0.8, 1.0],\n",
    "    'reg_alpha': [0, 0.1, 1.0],\n",
    "    'reg_lambda': [0, 0.1, 1.0],\n",
    "}\n",
    "\n",
    "# Define the model\n",
    "lgb_model = LGBMRegressor(objective='regression', random_state=42)\n",
    "\n",
    "# Setup RandomizedSearchCV\n",
    "search = RandomizedSearchCV(\n",
    "    lgb_model,\n",
    "    param_distributions=param_dist,\n",
    "    n_iter=30,\n",
    "    cv=3,\n",
    "    scoring='r2',\n",
    "    verbose=1,\n",
    "    n_jobs=-1\n",
    ")\n",
    "\n",
    "# Fit model\n",
    "search.fit(X_train, y_train_log)\n",
    "best_model = search.best_estimator_\n",
    "\n",
    "# Predict and inverse transform\n",
    "y_pred_log = best_model.predict(X_test)\n",
    "y_pred = np.expm1(y_pred_log)\n",
    "\n",
    "# Evaluation\n",
    "r2 = r2_score(y_test, y_pred)\n",
    "rmse = mse(y_test, y_pred, squared=False)\n",
    "\n",
    "print(f\"Best Params: {search.best_params_}\")\n",
    "print(f\"Test R²: {r2:.4f}\")\n",
    "print(f\"Test RMSE: {rmse:.2f}\")\n"
   ]
  },
  {
   "cell_type": "code",
   "execution_count": null,
   "id": "38e8574d",
   "metadata": {},
   "outputs": [],
   "source": []
  },
  {
   "cell_type": "code",
   "execution_count": null,
   "id": "8a98da3d",
   "metadata": {},
   "outputs": [
    {
     "name": "stderr",
     "output_type": "stream",
     "text": [
      "2025-07-20 18:43:06,951 - INFO - [MEM: 3944.9MB] - Creating evaluation visualizations\n",
      "2025-07-20 18:43:06,974 - INFO - [MEM: 3944.9MB] - Creating plots for ridge\n"
     ]
    },
    {
     "name": "stdout",
     "output_type": "stream",
     "text": [
      "\n",
      "==================================================\n",
      "CREATING EVALUATION VISUALIZATIONS\n",
      "==================================================\n",
      "Memory: 4078.6MB -> 3955.7MB (freed: 122.9MB)\n"
     ]
    },
    {
     "data": {
      "image/png": "[encoded data removed]",
      "text/plain": [
       "<Figure size 1500x1000 with 2 Axes>"
      ]
     },
     "metadata": {},
     "output_type": "display_data"
    },
    {
     "name": "stderr",
     "output_type": "stream",
     "text": [
      "2025-07-20 18:43:09,584 - INFO - [MEM: 3944.9MB] - Evaluation plots saved to: data/plots/model_evaluation.png\n"
     ]
    },
    {
     "name": "stdout",
     "output_type": "stream",
     "text": [
      "Visualizations completed. Memory usage: 3805.4MB\n"
     ]
    },
    {
     "data": {
      "text/plain": [
       "<Figure size 1200x800 with 0 Axes>"
      ]
     },
     "metadata": {},
     "output_type": "display_data"
    }
   ],
   "source": [
    "\n",
    "\n",
    "# ============================================================================\n",
    "# BLOCK 10: Model Evaluation and Visualization\n",
    "# ============================================================================\n",
    "\n",
    "def create_evaluation_visualizations(models: Dict, results: Dict, y_test, X_test):\n",
    "    \"\"\"Create evaluation visualizations efficiently\"\"\"\n",
    "    logger = setup_logging(\"evaluation_viz\")\n",
    "    logger.info(\"Creating evaluation visualizations\")\n",
    "    \n",
    "    try:\n",
    "        # Set up the plotting style\n",
    "        plt.style.use('default')\n",
    "        fig_size = (15, 10)\n",
    "        \n",
    "        # Create subplots\n",
    "        n_models = len(models)\n",
    "        fig, axes = plt.subplots(2, n_models, figsize=fig_size)\n",
    "        if n_models == 1:\n",
    "            axes = axes.reshape(2, 1)\n",
    "        \n",
    "        colors = ['blue', 'red', 'green', 'orange']\n",
    "        \n",
    "        for i, (model_name, model) in enumerate(models.items()):\n",
    "            logger.info(f\"Creating plots for {model_name}\")\n",
    "            \n",
    "            # Get predictions\n",
    "            if model_name == 'random_forest' and X_test.shape[1] > 10000:\n",
    "                logger.warning(f\"Skipping visualization for {model_name} due to memory constraints\")\n",
    "                continue\n",
    "                \n",
    "            if hasattr(model, 'predict'):\n",
    "                if model_name == 'random_forest' and X_test.shape[1] <= 10000:\n",
    "                    X_test_dense = X_test.toarray().astype(np.float32)\n",
    "                    y_pred = model.predict(X_test_dense)\n",
    "                    del X_test_dense\n",
    "                else:\n",
    "                    y_pred = model.predict(X_test)\n",
    "            else:\n",
    "                continue\n",
    "            \n",
    "            color = colors[i % len(colors)]\n",
    "            \n",
    "            # Plot 1: Actual vs Predicted\n",
    "            axes[0, i].scatter(y_test, y_pred, alpha=0.5, color=color, s=1)\n",
    "            axes[0, i].plot([y_test.min(), y_test.max()], [y_test.min(), y_test.max()], 'r--', lw=2)\n",
    "            axes[0, i].set_xlabel('Actual Citations')\n",
    "            axes[0, i].set_ylabel('Predicted Citations')\n",
    "            axes[0, i].set_title(f'{model_name.title()}: Actual vs Predicted')\n",
    "            axes[0, i].grid(True, alpha=0.3)\n",
    "            \n",
    "            # Add R² score to the plot\n",
    "            r2 = results[model_name]['test_r2']\n",
    "            axes[0, i].text(0.05, 0.95, f'R² = {r2:.3f}', \n",
    "                          transform=axes[0, i].transAxes, \n",
    "                          verticalalignment='top',\n",
    "                          bbox=dict(boxstyle='round', facecolor='white', alpha=0.8))\n",
    "            \n",
    "            # Plot 2: Residuals\n",
    "            residuals = y_test - y_pred\n",
    "            axes[1, i].scatter(y_pred, residuals, alpha=0.5, color=color, s=1)\n",
    "            axes[1, i].axhline(y=0, color='r', linestyle='--', lw=2)\n",
    "            axes[1, i].set_xlabel('Predicted Citations')\n",
    "            axes[1, i].set_ylabel('Residuals')\n",
    "            axes[1, i].set_title(f'{model_name.title()}: Residual Plot')\n",
    "            axes[1, i].grid(True, alpha=0.3)\n",
    "            \n",
    "            del y_pred, residuals\n",
    "            force_garbage_collection()\n",
    "        \n",
    "        plt.tight_layout()\n",
    "        \n",
    "        # Save the plot\n",
    "        plots_dir = CONFIG['DATA_DIR'] / 'plots'\n",
    "        plots_dir.mkdir(exist_ok=True)\n",
    "        plot_path = plots_dir / 'model_evaluation.png'\n",
    "        plt.savefig(plot_path, dpi=150, bbox_inches='tight')\n",
    "        plt.show()\n",
    "        \n",
    "        logger.info(f\"Evaluation plots saved to: {plot_path}\")\n",
    "        \n",
    "        # Create feature importance plot (for models that support it)\n",
    "        plt.figure(figsize=(12, 8))\n",
    "        \n",
    "        for i, (model_name, model) in enumerate(models.items()):\n",
    "            if hasattr(model, 'feature_importances_') and model_name == 'random_forest':\n",
    "                # Get feature importances\n",
    "                importances = model.feature_importances_\n",
    "                \n",
    "                # Focus on numerical features (first 7 features)\n",
    "                numerical_importances = importances[:len(NUMERICAL_FEATURES_COLS)]\n",
    "                \n",
    "                plt.subplot(1, len(models), i+1)\n",
    "                plt.bar(range(len(NUMERICAL_FEATURES_COLS)), numerical_importances)\n",
    "                plt.xlabel('Feature Index')\n",
    "                plt.ylabel('Importance')\n",
    "                plt.title(f'{model_name.title()}: Feature Importance\\n(Numerical Features Only)')\n",
    "                plt.xticks(range(len(NUMERICAL_FEATURES_COLS)), \n",
    "                          [col[:10] for col in NUMERICAL_FEATURES_COLS], \n",
    "                          rotation=45)\n",
    "                plt.grid(True, alpha=0.3)\n",
    "        \n",
    "        if any(hasattr(model, 'feature_importances_') for model in models.values()):\n",
    "            plt.tight_layout()\n",
    "            importance_plot_path = plots_dir / 'feature_importance.png'\n",
    "            plt.savefig(importance_plot_path, dpi=150, bbox_inches='tight')\n",
    "            plt.show()\n",
    "            logger.info(f\"Feature importance plot saved to: {importance_plot_path}\")\n",
    "        \n",
    "    except Exception as e:\n",
    "        logger.error(f\"Error creating visualizations: {e}\", exc_info=True)\n",
    "\n",
    "# Create evaluation visualizations\n",
    "print(\"\\n\" + \"=\"*50)\n",
    "print(\"CREATING EVALUATION VISUALIZATIONS\")\n",
    "print(\"=\"*50)\n",
    "\n",
    "create_evaluation_visualizations(trained_models, model_results, y_test, X_test)\n",
    "print(f\"Visualizations completed. Memory usage: {get_memory_usage():.1f}MB\")"
   ]
  },
  {
   "cell_type": "code",
   "execution_count": null,
   "id": "286743ee",
   "metadata": {},
   "outputs": [
    {
     "name": "stderr",
     "output_type": "stream",
     "text": [
      "2025-07-20 18:43:09,626 - INFO - [MEM: 3660.4MB] - Generating final pipeline summary\n",
      "2025-07-20 18:43:09,691 - INFO - [MEM: 3660.4MB] - Pipeline summary saved to: data/pipeline_summary.json\n"
     ]
    },
    {
     "name": "stdout",
     "output_type": "stream",
     "text": [
      "\n",
      "==================================================\n",
      "GENERATING FINAL SUMMARY\n",
      "==================================================\n",
      "\n",
      "============================================================\n",
      "PIPELINE EXECUTION SUMMARY\n",
      "============================================================\n",
      "✓ Dataset processed: 1,732,752 records\n",
      "✓ Features created: 25 total\n",
      "✓ Models trained: 1\n",
      "✓ Memory usage: 3395.9MB\n",
      "\n",
      "Target Variable Statistics:\n",
      "  Range: 0 - 121860\n",
      "  Mean: 39.47\n",
      "  Median: 7.00\n",
      "\n",
      "Best Model Performance:\n",
      "  Model: ridge\n",
      "  Test R²: 0.1625\n",
      "  Test RMSE: 1.46\n",
      "\n",
      "Files Generated:\n",
      "  ✓ dblp_cleaned.parquet\n",
      "  ✓ tfidf_combined_sparse_features.npz\n",
      "  ✓ tfidf_vectorizers.pkl\n",
      "  ✓ dblp_final_processed.parquet\n",
      "  ✓ Model files in models/ directory\n",
      "  ✓ Plots in plots/ directory\n",
      "  ✓ pipeline_summary.json\n",
      "\n",
      "==================================================\n",
      "FINAL CLEANUP\n",
      "==================================================\n",
      "Memory: 4442.0MB -> 4403.0MB (freed: 39.0MB)\n",
      "Pipeline completed successfully!\n",
      "Final memory usage: 4403.0MB\n",
      "Total execution time logged in individual step logs.\n",
      "\n",
      "============================================================\n",
      "MEMORY-EFFICIENT DBLP CITATION NETWORK PIPELINE COMPLETE\n",
      "============================================================\n"
     ]
    }
   ],
   "source": [
    "\n",
    "\n",
    "# ============================================================================\n",
    "# BLOCK 11: Final Summary and Cleanup\n",
    "# ============================================================================\n",
    "\n",
    "def generate_final_summary(df: pd.DataFrame, models: Dict, results: Dict, config: Dict):\n",
    "    \"\"\"Generate final pipeline summary\"\"\"\n",
    "    logger = setup_logging(\"final_summary\")\n",
    "    logger.info(\"Generating final pipeline summary\")\n",
    "    \n",
    "    try:\n",
    "        summary = {\n",
    "            'pipeline_info': {\n",
    "                'total_records_processed': len(df),\n",
    "                'final_features': df.shape[1],\n",
    "                'numerical_features': len(NUMERICAL_FEATURES_COLS),\n",
    "                'tfidf_features_file': str(config['TFIDF_COMBINED_FEATURES_PATH']),\n",
    "                'memory_limit_mb': config['MAX_MEMORY_MB'],\n",
    "                'random_state': config['RANDOM_STATE']\n",
    "            },\n",
    "            'data_summary': {\n",
    "                'target_variable': 'n_citation',\n",
    "                'target_range': f\"{df['n_citation'].min()} - {df['n_citation'].max()}\",\n",
    "                'target_mean': float(df['n_citation'].mean()),\n",
    "                'target_median': float(df['n_citation'].median()),\n",
    "                'target_std': float(df['n_citation'].std())\n",
    "            },\n",
    "            'model_performance': {},\n",
    "            'feature_info': {\n",
    "                'numerical_features': NUMERICAL_FEATURES_COLS,\n",
    "                'text_fields_processed': ['title', 'abstract', 'keywords']\n",
    "            }\n",
    "        }\n",
    "        \n",
    "        # Add model performance\n",
    "        for model_name, metrics in results.items():\n",
    "            summary['model_performance'][model_name] = {\n",
    "                'test_r2': float(metrics['test_r2']),\n",
    "                'test_rmse': float(np.sqrt(metrics['test_mse'])),\n",
    "                'test_mae': float(metrics['test_mae']),\n",
    "                'training_time_seconds': float(metrics['training_time'])\n",
    "            }\n",
    "        \n",
    "        # Save summary\n",
    "        summary_path = config['DATA_DIR'] / 'pipeline_summary.json'\n",
    "        import json\n",
    "        with open(summary_path, 'w') as f:\n",
    "            json.dump(summary, f, indent=2)\n",
    "        \n",
    "        logger.info(f\"Pipeline summary saved to: {summary_path}\")\n",
    "        \n",
    "        # Print summary to console\n",
    "        print(\"\\n\" + \"=\"*60)\n",
    "        print(\"PIPELINE EXECUTION SUMMARY\")\n",
    "        print(\"=\"*60)\n",
    "        print(f\"✓ Dataset processed: {summary['pipeline_info']['total_records_processed']:,} records\")\n",
    "        print(f\"✓ Features created: {summary['pipeline_info']['final_features']} total\")\n",
    "        print(f\"✓ Models trained: {len(models)}\")\n",
    "        print(f\"✓ Memory usage: {get_memory_usage():.1f}MB\")\n",
    "        \n",
    "        print(f\"\\nTarget Variable Statistics:\")\n",
    "        print(f\"  Range: {summary['data_summary']['target_range']}\")\n",
    "        print(f\"  Mean: {summary['data_summary']['target_mean']:.2f}\")\n",
    "        print(f\"  Median: {summary['data_summary']['target_median']:.2f}\")\n",
    "        \n",
    "        print(f\"\\nBest Model Performance:\")\n",
    "        best_model = max(results.keys(), key=lambda k: results[k]['test_r2'])\n",
    "        best_r2 = results[best_model]['test_r2']\n",
    "        best_rmse = np.sqrt(results[best_model]['test_mse'])\n",
    "        print(f\"  Model: {best_model}\")\n",
    "        print(f\"  Test R²: {best_r2:.4f}\")\n",
    "        print(f\"  Test RMSE: {best_rmse:.2f}\")\n",
    "        \n",
    "        print(f\"\\nFiles Generated:\")\n",
    "        print(f\"  ✓ {config['CLEANED_PARQUET_FILE']}\")\n",
    "        print(f\"  ✓ {config['TFIDF_COMBINED_FEATURES_PATH'].name}\")\n",
    "        print(f\"  ✓ {config['TFIDF_VECTORIZERS_PATH'].name}\")\n",
    "        print(f\"  ✓ dblp_final_processed.parquet\")\n",
    "        print(f\"  ✓ Model files in models/ directory\")\n",
    "        print(f\"  ✓ Plots in plots/ directory\")\n",
    "        print(f\"  ✓ pipeline_summary.json\")\n",
    "        \n",
    "        return summary\n",
    "        \n",
    "    except Exception as e:\n",
    "        logger.error(f\"Error generating summary: {e}\", exc_info=True)\n",
    "        raise\n",
    "\n",
    "# Generate final summary\n",
    "print(\"\\n\" + \"=\"*50)\n",
    "print(\"GENERATING FINAL SUMMARY\")\n",
    "print(\"=\"*50)\n",
    "\n",
    "final_summary = generate_final_summary(df_final, trained_models, model_results, CONFIG)\n",
    "\n",
    "# Final cleanup\n",
    "print(\"\\n\" + \"=\"*50)\n",
    "print(\"FINAL CLEANUP\")\n",
    "print(\"=\"*50)\n",
    "\n",
    "# Clean up large variables\n",
    "del X_train, X_test, y_train, y_test\n",
    "del df_clean, df_features, df_final\n",
    "del combined_tfidf, vectorizers\n",
    "force_garbage_collection()\n",
    "\n",
    "print(f\"Pipeline completed successfully!\")\n",
    "print(f\"Final memory usage: {get_memory_usage():.1f}MB\")\n",
    "print(f\"Total execution time logged in individual step logs.\")\n",
    "\n",
    "print(\"\\n\" + \"=\"*60)\n",
    "print(\"MEMORY-EFFICIENT DBLP CITATION NETWORK PIPELINE COMPLETE\")\n",
    "print(\"=\"*60)"
   ]
  }
 ],
 "metadata": {
  "kernelspec": {
   "display_name": "base",
   "language": "python",
   "name": "python3"
  },
  "language_info": {
   "codemirror_mode": {
    "name": "ipython",
    "version": 3
   },
   "file_extension": ".py",
   "mimetype": "text/x-python",
   "name": "python",
   "nbconvert_exporter": "python",
   "pygments_lexer": "ipython3",
   "version": "3.12.7"
  }
 },
 "nbformat": 4,
 "nbformat_minor": 5
}
